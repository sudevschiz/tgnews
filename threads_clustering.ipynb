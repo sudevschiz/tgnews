{
 "cells": [
  {
   "cell_type": "code",
   "execution_count": 1,
   "metadata": {},
   "outputs": [
    {
     "name": "stderr",
     "output_type": "stream",
     "text": [
      "/Users/sudevchirappat/opt/anaconda3/lib/python3.7/site-packages/lightgbm/__init__.py:48: UserWarning: Starting from version 2.2.1, the library file in distribution wheels for macOS is built by the Apple Clang (Xcode_8.3.3) compiler.\n",
      "This means that in case of installing LightGBM from PyPI via the ``pip install lightgbm`` command, you don't need to install the gcc compiler anymore.\n",
      "Instead of that, you need to install the OpenMP library, which is required for running LightGBM on the system with the Apple Clang compiler.\n",
      "You can install the OpenMP library by the following command: ``brew install libomp``.\n",
      "  \"You can install the OpenMP library by the following command: ``brew install libomp``.\", UserWarning)\n",
      "2019-12-03 04:23:56,623 - DEBUG - Loaded backend module://ipykernel.pylab.backend_inline version unknown.\n"
     ]
    }
   ],
   "source": [
    "import pandas as pd\n",
    "import numpy as np\n",
    "\n",
    "import logging\n",
    "from sklearn.cluster import DBSCAN\n",
    "from matplotlib import pyplot as plt\n",
    "import seaborn as sns\n",
    "\n",
    "import task3_categories as t3\n",
    "sns.set()"
   ]
  },
  {
   "cell_type": "code",
   "execution_count": 2,
   "metadata": {},
   "outputs": [],
   "source": [
    "### LOGGER\n",
    "logFormatter = '%(asctime)s - %(levelname)s - %(message)s'\n",
    "logging.basicConfig(format=logFormatter, level=logging.DEBUG)\n",
    "logger = logging.getLogger(__name__)"
   ]
  },
  {
   "cell_type": "code",
   "execution_count": 3,
   "metadata": {},
   "outputs": [],
   "source": [
    "# Load from file\n",
    "df = pd.read_csv('Data/Training_Data/df_kaggle_vector.csv')"
   ]
  },
  {
   "cell_type": "code",
   "execution_count": 4,
   "metadata": {},
   "outputs": [
    {
     "data": {
      "text/html": [
       "<div>\n",
       "<style scoped>\n",
       "    .dataframe tbody tr th:only-of-type {\n",
       "        vertical-align: middle;\n",
       "    }\n",
       "\n",
       "    .dataframe tbody tr th {\n",
       "        vertical-align: top;\n",
       "    }\n",
       "\n",
       "    .dataframe thead th {\n",
       "        text-align: right;\n",
       "    }\n",
       "</style>\n",
       "<table border=\"1\" class=\"dataframe\">\n",
       "  <thead>\n",
       "    <tr style=\"text-align: right;\">\n",
       "      <th></th>\n",
       "      <th>0</th>\n",
       "      <th>1</th>\n",
       "      <th>2</th>\n",
       "      <th>3</th>\n",
       "      <th>4</th>\n",
       "      <th>5</th>\n",
       "      <th>6</th>\n",
       "      <th>7</th>\n",
       "      <th>8</th>\n",
       "      <th>9</th>\n",
       "      <th>...</th>\n",
       "      <th>291</th>\n",
       "      <th>292</th>\n",
       "      <th>293</th>\n",
       "      <th>294</th>\n",
       "      <th>295</th>\n",
       "      <th>296</th>\n",
       "      <th>297</th>\n",
       "      <th>298</th>\n",
       "      <th>299</th>\n",
       "      <th>label</th>\n",
       "    </tr>\n",
       "  </thead>\n",
       "  <tbody>\n",
       "    <tr>\n",
       "      <td>0</td>\n",
       "      <td>0.033573</td>\n",
       "      <td>0.030120</td>\n",
       "      <td>-0.013333</td>\n",
       "      <td>-0.004280</td>\n",
       "      <td>-0.010280</td>\n",
       "      <td>-0.000020</td>\n",
       "      <td>0.046047</td>\n",
       "      <td>-0.003707</td>\n",
       "      <td>0.016067</td>\n",
       "      <td>0.000820</td>\n",
       "      <td>...</td>\n",
       "      <td>-0.039760</td>\n",
       "      <td>0.043267</td>\n",
       "      <td>0.032080</td>\n",
       "      <td>0.067747</td>\n",
       "      <td>-0.015733</td>\n",
       "      <td>-0.023620</td>\n",
       "      <td>0.070020</td>\n",
       "      <td>0.075827</td>\n",
       "      <td>0.017567</td>\n",
       "      <td>Society</td>\n",
       "    </tr>\n",
       "    <tr>\n",
       "      <td>1</td>\n",
       "      <td>-0.064742</td>\n",
       "      <td>0.023908</td>\n",
       "      <td>-0.004233</td>\n",
       "      <td>-0.030258</td>\n",
       "      <td>-0.014892</td>\n",
       "      <td>0.022708</td>\n",
       "      <td>0.041967</td>\n",
       "      <td>0.011658</td>\n",
       "      <td>0.009667</td>\n",
       "      <td>0.021217</td>\n",
       "      <td>...</td>\n",
       "      <td>-0.042900</td>\n",
       "      <td>-0.022133</td>\n",
       "      <td>0.021533</td>\n",
       "      <td>0.050833</td>\n",
       "      <td>-0.028792</td>\n",
       "      <td>0.011250</td>\n",
       "      <td>0.047133</td>\n",
       "      <td>-0.015700</td>\n",
       "      <td>-0.006367</td>\n",
       "      <td>Entertainment</td>\n",
       "    </tr>\n",
       "    <tr>\n",
       "      <td>2</td>\n",
       "      <td>0.066769</td>\n",
       "      <td>0.007206</td>\n",
       "      <td>-0.010712</td>\n",
       "      <td>-0.059450</td>\n",
       "      <td>-0.050756</td>\n",
       "      <td>0.013675</td>\n",
       "      <td>0.062431</td>\n",
       "      <td>-0.004919</td>\n",
       "      <td>-0.018869</td>\n",
       "      <td>0.041400</td>\n",
       "      <td>...</td>\n",
       "      <td>-0.010281</td>\n",
       "      <td>-0.030531</td>\n",
       "      <td>-0.009381</td>\n",
       "      <td>0.009750</td>\n",
       "      <td>0.042487</td>\n",
       "      <td>-0.039094</td>\n",
       "      <td>0.051881</td>\n",
       "      <td>0.023563</td>\n",
       "      <td>0.040287</td>\n",
       "      <td>Entertainment</td>\n",
       "    </tr>\n",
       "    <tr>\n",
       "      <td>3</td>\n",
       "      <td>-0.012333</td>\n",
       "      <td>-0.007461</td>\n",
       "      <td>-0.100556</td>\n",
       "      <td>0.020939</td>\n",
       "      <td>-0.002461</td>\n",
       "      <td>-0.000728</td>\n",
       "      <td>0.063122</td>\n",
       "      <td>-0.017244</td>\n",
       "      <td>0.030683</td>\n",
       "      <td>-0.013228</td>\n",
       "      <td>...</td>\n",
       "      <td>-0.060050</td>\n",
       "      <td>0.059711</td>\n",
       "      <td>0.038639</td>\n",
       "      <td>0.081500</td>\n",
       "      <td>0.024872</td>\n",
       "      <td>-0.025722</td>\n",
       "      <td>0.081683</td>\n",
       "      <td>-0.010978</td>\n",
       "      <td>-0.054689</td>\n",
       "      <td>Entertainment</td>\n",
       "    </tr>\n",
       "    <tr>\n",
       "      <td>4</td>\n",
       "      <td>-0.012261</td>\n",
       "      <td>0.044161</td>\n",
       "      <td>-0.020506</td>\n",
       "      <td>0.011789</td>\n",
       "      <td>-0.026433</td>\n",
       "      <td>-0.032822</td>\n",
       "      <td>0.030433</td>\n",
       "      <td>-0.011083</td>\n",
       "      <td>0.010517</td>\n",
       "      <td>0.012244</td>\n",
       "      <td>...</td>\n",
       "      <td>-0.014150</td>\n",
       "      <td>0.064528</td>\n",
       "      <td>0.039233</td>\n",
       "      <td>0.055917</td>\n",
       "      <td>0.017133</td>\n",
       "      <td>-0.027028</td>\n",
       "      <td>0.107417</td>\n",
       "      <td>-0.005850</td>\n",
       "      <td>-0.020822</td>\n",
       "      <td>Entertainment</td>\n",
       "    </tr>\n",
       "  </tbody>\n",
       "</table>\n",
       "<p>5 rows × 301 columns</p>\n",
       "</div>"
      ],
      "text/plain": [
       "          0         1         2         3         4         5         6  \\\n",
       "0  0.033573  0.030120 -0.013333 -0.004280 -0.010280 -0.000020  0.046047   \n",
       "1 -0.064742  0.023908 -0.004233 -0.030258 -0.014892  0.022708  0.041967   \n",
       "2  0.066769  0.007206 -0.010712 -0.059450 -0.050756  0.013675  0.062431   \n",
       "3 -0.012333 -0.007461 -0.100556  0.020939 -0.002461 -0.000728  0.063122   \n",
       "4 -0.012261  0.044161 -0.020506  0.011789 -0.026433 -0.032822  0.030433   \n",
       "\n",
       "          7         8         9  ...       291       292       293       294  \\\n",
       "0 -0.003707  0.016067  0.000820  ... -0.039760  0.043267  0.032080  0.067747   \n",
       "1  0.011658  0.009667  0.021217  ... -0.042900 -0.022133  0.021533  0.050833   \n",
       "2 -0.004919 -0.018869  0.041400  ... -0.010281 -0.030531 -0.009381  0.009750   \n",
       "3 -0.017244  0.030683 -0.013228  ... -0.060050  0.059711  0.038639  0.081500   \n",
       "4 -0.011083  0.010517  0.012244  ... -0.014150  0.064528  0.039233  0.055917   \n",
       "\n",
       "        295       296       297       298       299          label  \n",
       "0 -0.015733 -0.023620  0.070020  0.075827  0.017567        Society  \n",
       "1 -0.028792  0.011250  0.047133 -0.015700 -0.006367  Entertainment  \n",
       "2  0.042487 -0.039094  0.051881  0.023563  0.040287  Entertainment  \n",
       "3  0.024872 -0.025722  0.081683 -0.010978 -0.054689  Entertainment  \n",
       "4  0.017133 -0.027028  0.107417 -0.005850 -0.020822  Entertainment  \n",
       "\n",
       "[5 rows x 301 columns]"
      ]
     },
     "execution_count": 4,
     "metadata": {},
     "output_type": "execute_result"
    }
   ],
   "source": [
    "df.head()"
   ]
  },
  {
   "cell_type": "code",
   "execution_count": 5,
   "metadata": {},
   "outputs": [
    {
     "data": {
      "text/plain": [
       "(200853, 301)"
      ]
     },
     "execution_count": 5,
     "metadata": {},
     "output_type": "execute_result"
    }
   ],
   "source": [
    "df.shape"
   ]
  },
  {
   "cell_type": "code",
   "execution_count": 6,
   "metadata": {},
   "outputs": [
    {
     "data": {
      "text/plain": [
       "Other            77197\n",
       "Society          63939\n",
       "Entertainment    41925\n",
       "Economy           7644\n",
       "Sports            4884\n",
       "Science           3182\n",
       "Technology        2082\n",
       "Name: label, dtype: int64"
      ]
     },
     "execution_count": 6,
     "metadata": {},
     "output_type": "execute_result"
    }
   ],
   "source": [
    "df.label.value_counts()"
   ]
  },
  {
   "cell_type": "markdown",
   "metadata": {},
   "source": [
    "## Clustering to be done with in each category\n",
    "\n",
    "First let's test it out in the society vector"
   ]
  },
  {
   "cell_type": "code",
   "execution_count": null,
   "metadata": {},
   "outputs": [],
   "source": [
    "_,df = t3.categories(path='Data/en_small/')"
   ]
  },
  {
   "cell_type": "code",
   "execution_count": null,
   "metadata": {},
   "outputs": [],
   "source": [
    "society = df[df['label']=='Society']"
   ]
  },
  {
   "cell_type": "code",
   "execution_count": null,
   "metadata": {},
   "outputs": [],
   "source": [
    "society = society[society.isna().apply(sum,axis=1) == 0]\n",
    "X = society.drop(['label'],axis=1)"
   ]
  },
  {
   "cell_type": "code",
   "execution_count": null,
   "metadata": {},
   "outputs": [],
   "source": [
    "logger.info(\"Variance explained : \" + str(pca.explained_variance_ratio_.sum())) "
   ]
  },
  {
   "cell_type": "code",
   "execution_count": null,
   "metadata": {},
   "outputs": [],
   "source": [
    "from sklearn.decomposition import PCA\n",
    "pca = PCA(n_components=10, svd_solver='full')"
   ]
  },
  {
   "cell_type": "code",
   "execution_count": null,
   "metadata": {},
   "outputs": [],
   "source": [
    "df_vector = pd.DataFrame(pca.fit_transform(X))"
   ]
  },
  {
   "cell_type": "code",
   "execution_count": 22,
   "metadata": {},
   "outputs": [
    {
     "data": {
      "text/html": [
       "<div>\n",
       "<style scoped>\n",
       "    .dataframe tbody tr th:only-of-type {\n",
       "        vertical-align: middle;\n",
       "    }\n",
       "\n",
       "    .dataframe tbody tr th {\n",
       "        vertical-align: top;\n",
       "    }\n",
       "\n",
       "    .dataframe thead th {\n",
       "        text-align: right;\n",
       "    }\n",
       "</style>\n",
       "<table border=\"1\" class=\"dataframe\">\n",
       "  <thead>\n",
       "    <tr style=\"text-align: right;\">\n",
       "      <th></th>\n",
       "      <th>0</th>\n",
       "      <th>1</th>\n",
       "      <th>2</th>\n",
       "      <th>3</th>\n",
       "      <th>4</th>\n",
       "      <th>5</th>\n",
       "      <th>6</th>\n",
       "      <th>7</th>\n",
       "      <th>8</th>\n",
       "      <th>9</th>\n",
       "    </tr>\n",
       "  </thead>\n",
       "  <tbody>\n",
       "    <tr>\n",
       "      <td>0</td>\n",
       "      <td>0.021963</td>\n",
       "      <td>-0.159249</td>\n",
       "      <td>-0.096204</td>\n",
       "      <td>0.011308</td>\n",
       "      <td>0.069011</td>\n",
       "      <td>-0.073599</td>\n",
       "      <td>-0.150976</td>\n",
       "      <td>0.007695</td>\n",
       "      <td>0.129559</td>\n",
       "      <td>-0.085655</td>\n",
       "    </tr>\n",
       "    <tr>\n",
       "      <td>1</td>\n",
       "      <td>0.184276</td>\n",
       "      <td>0.008316</td>\n",
       "      <td>-0.056369</td>\n",
       "      <td>-0.147843</td>\n",
       "      <td>0.075833</td>\n",
       "      <td>-0.079262</td>\n",
       "      <td>0.093843</td>\n",
       "      <td>0.048781</td>\n",
       "      <td>-0.001682</td>\n",
       "      <td>-0.078575</td>\n",
       "    </tr>\n",
       "    <tr>\n",
       "      <td>2</td>\n",
       "      <td>-0.190232</td>\n",
       "      <td>-0.147221</td>\n",
       "      <td>0.005372</td>\n",
       "      <td>-0.127158</td>\n",
       "      <td>-0.044769</td>\n",
       "      <td>-0.051608</td>\n",
       "      <td>0.038062</td>\n",
       "      <td>0.025039</td>\n",
       "      <td>-0.024311</td>\n",
       "      <td>-0.009245</td>\n",
       "    </tr>\n",
       "    <tr>\n",
       "      <td>3</td>\n",
       "      <td>-0.226410</td>\n",
       "      <td>0.009730</td>\n",
       "      <td>-0.006972</td>\n",
       "      <td>0.115732</td>\n",
       "      <td>0.025847</td>\n",
       "      <td>-0.032472</td>\n",
       "      <td>0.004097</td>\n",
       "      <td>0.059381</td>\n",
       "      <td>-0.062325</td>\n",
       "      <td>-0.050613</td>\n",
       "    </tr>\n",
       "    <tr>\n",
       "      <td>4</td>\n",
       "      <td>0.283442</td>\n",
       "      <td>0.041036</td>\n",
       "      <td>-0.019587</td>\n",
       "      <td>0.178456</td>\n",
       "      <td>0.045257</td>\n",
       "      <td>-0.003103</td>\n",
       "      <td>0.157608</td>\n",
       "      <td>0.060648</td>\n",
       "      <td>-0.053838</td>\n",
       "      <td>0.006927</td>\n",
       "    </tr>\n",
       "  </tbody>\n",
       "</table>\n",
       "</div>"
      ],
      "text/plain": [
       "          0         1         2         3         4         5         6  \\\n",
       "0  0.021963 -0.159249 -0.096204  0.011308  0.069011 -0.073599 -0.150976   \n",
       "1  0.184276  0.008316 -0.056369 -0.147843  0.075833 -0.079262  0.093843   \n",
       "2 -0.190232 -0.147221  0.005372 -0.127158 -0.044769 -0.051608  0.038062   \n",
       "3 -0.226410  0.009730 -0.006972  0.115732  0.025847 -0.032472  0.004097   \n",
       "4  0.283442  0.041036 -0.019587  0.178456  0.045257 -0.003103  0.157608   \n",
       "\n",
       "          7         8         9  \n",
       "0  0.007695  0.129559 -0.085655  \n",
       "1  0.048781 -0.001682 -0.078575  \n",
       "2  0.025039 -0.024311 -0.009245  \n",
       "3  0.059381 -0.062325 -0.050613  \n",
       "4  0.060648 -0.053838  0.006927  "
      ]
     },
     "execution_count": 22,
     "metadata": {},
     "output_type": "execute_result"
    }
   ],
   "source": [
    "df['date_dev'] = (df['published_date'] - min(df['published_date']))/min(df['published_date'])\n",
    "dt_int = int(datetime.datetime.strptime(dt, '%Y-%m-%d %H:%M:%S.%f'))"
   ]
  },
  {
   "cell_type": "code",
   "execution_count": null,
   "metadata": {},
   "outputs": [],
   "source": [
    "m = DBSCAN(eps=0.5, min_samples=2,n_jobs=-1)\n",
    "m.fit()"
   ]
  },
  {
   "cell_type": "code",
   "execution_count": null,
   "metadata": {},
   "outputs": [],
   "source": [
    "sum(m.labels_ > -1)"
   ]
  },
  {
   "cell_type": "code",
   "execution_count": null,
   "metadata": {},
   "outputs": [],
   "source": [
    "import datetime\n",
    "t = '2019-11-25T05:27:39+00:00'\n",
    "dt_int = int(datetime.datetime.strptime(dt, '%Y-%m-%d %H:%M:%S.%f'))"
   ]
  },
  {
   "cell_type": "code",
   "execution_count": null,
   "metadata": {},
   "outputs": [],
   "source": [
    "def cluster_news(vector):\n",
    "    \n",
    "    from sklearn.decomposition import TruncatedSVD\n",
    "    \n",
    "    \n",
    "    # Create features frmo date\n",
    "    import datetime\n",
    "    \n",
    "    \n",
    "    \n",
    "    # For each category, conduct clustering : \n",
    "    \n",
    "    c_list = unique(vector.categories)\n",
    "    \n",
    "    for c in c_list:\n",
    "        \n",
    "        df = vector[vector.categories == c]\n",
    "        \n",
    "        # Fit the DBSCAN clustering model\n",
    "        m = DBSCAN(eps=0.3, min_samples=2)\n",
    "        m.fit(vector.drop(['label'],axis=1))"
   ]
  }
 ],
 "metadata": {
  "kernelspec": {
   "display_name": "Python 3",
   "language": "python",
   "name": "python3"
  },
  "language_info": {
   "codemirror_mode": {
    "name": "ipython",
    "version": 3
   },
   "file_extension": ".py",
   "mimetype": "text/x-python",
   "name": "python",
   "nbconvert_exporter": "python",
   "pygments_lexer": "ipython3",
   "version": "3.7.4"
  }
 },
 "nbformat": 4,
 "nbformat_minor": 4
}

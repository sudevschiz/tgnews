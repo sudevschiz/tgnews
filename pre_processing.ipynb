{
 "cells": [
  {
   "cell_type": "code",
   "execution_count": 50,
   "metadata": {},
   "outputs": [
    {
     "data": {
      "text/plain": [
       "label    object\n",
       "uuid     object\n",
       "title    object\n",
       "text     object\n",
       "dtype: object"
      ]
     },
     "execution_count": 50,
     "metadata": {},
     "output_type": "execute_result"
    }
   ],
   "source": [
    "import pandas as pd\n",
    "df = pd.read_csv(\"Data/Training_Data/alldata.csv\")"
   ]
  },
  {
   "cell_type": "code",
   "execution_count": 8,
   "metadata": {},
   "outputs": [
    {
     "data": {
      "text/plain": [
       "(383663, 4)"
      ]
     },
     "execution_count": 8,
     "metadata": {},
     "output_type": "execute_result"
    }
   ],
   "source": [
    "df.text[0]\n",
    "df.shape"
   ]
  },
  {
   "cell_type": "code",
   "execution_count": 5,
   "metadata": {},
   "outputs": [
    {
     "name": "stdout",
     "output_type": "stream",
     "text": [
      "Tracy Morgan performs first stand-up show since accident\n",
      "\n",
      "\n",
      "['Tracy', 'Morgan', 'performs', 'first', 'stand-up', 'show', 'since', 'accident']\n",
      "\n",
      "after\n",
      "['tracy', 'morgan', 'performs', 'first', 'standup', 'show', 'since', 'accident']\n"
     ]
    }
   ],
   "source": [
    "import nltk\n",
    "from nltk.tokenize import word_tokenize\n",
    "import re\n",
    "import text_preprocessing as tp\n",
    "# below lines needs to be executed once\n",
    "# nltk.download('punkt')\n",
    "# nltk.download('stopwords')\n",
    "text = df.text[0]\n",
    "\n",
    "text = df.title[0]\n",
    "print(text)\n",
    "print(\"\\n\")\n",
    "\n",
    "# text = re.sub(r'^https?:\\/\\/.*[\\r\\n]*', '', df.text[0], flags=re.MULTILINE)\n",
    "text = re.sub(r'http\\S+', '', text)\n",
    "# print(text)\n",
    "tokens = word_tokenize(text)\n",
    "print(tokens)\n",
    "tokens = tp.preprocess(text)\n",
    "print(\"\\nafter\")\n",
    "print(tokens)\n",
    "# print(tokens)\n",
    "\n",
    "from nltk.stem.porter import PorterStemmer\n",
    "porter = PorterStemmer()\n",
    "stems = []\n",
    "for t in tokens:    \n",
    "    stems.append(porter.stem(t))\n",
    "# print(stems)"
   ]
  },
  {
   "cell_type": "code",
   "execution_count": 30,
   "metadata": {},
   "outputs": [
    {
     "data": {
      "text/plain": [
       "Sports           156899\n",
       "Politics          87157\n",
       "Entertainment     50281\n",
       "Finance           47851\n",
       "Tech              41475\n",
       "Name: label, dtype: int64"
      ]
     },
     "execution_count": 30,
     "metadata": {},
     "output_type": "execute_result"
    }
   ],
   "source": [
    "df.label.value_counts()"
   ]
  },
  {
   "cell_type": "code",
   "execution_count": 32,
   "metadata": {},
   "outputs": [],
   "source": [
    "\n",
    "d1 = df[df.label==\"Sports\"].sample(10000)\n",
    "d2 = df[df.label==\"Politics\"].sample(10000)\n",
    "d3 = df[df.label==\"Entertainment\"].sample(10000)\n",
    "d4 = df[df.label==\"Finance\"].sample(10000)\n",
    "d5 = df[df.label==\"Tech\"].sample(10000)\n",
    "\n",
    "\n",
    "dfinal = pd.concat([d1,d2,d3,d4,d5])"
   ]
  },
  {
   "cell_type": "code",
   "execution_count": 35,
   "metadata": {},
   "outputs": [
    {
     "data": {
      "text/plain": [
       "Finance          10000\n",
       "Sports           10000\n",
       "Tech             10000\n",
       "Politics         10000\n",
       "Entertainment    10000\n",
       "Name: label, dtype: int64"
      ]
     },
     "execution_count": 35,
     "metadata": {},
     "output_type": "execute_result"
    }
   ],
   "source": [
    "%%time\n",
    "dfinal.label.value_counts()\n"
   ]
  },
  {
   "cell_type": "code",
   "execution_count": 36,
   "metadata": {},
   "outputs": [
    {
     "name": "stdout",
     "output_type": "stream",
     "text": [
      "CPU times: user 3.23 s, sys: 1.33 s, total: 4.56 s\n",
      "Wall time: 11min 52s\n"
     ]
    }
   ],
   "source": [
    "%%time\n",
    "# (df.head())\n",
    "df.text\n",
    "from multiprocessing import Pool\n",
    "\n",
    "pool = Pool()\n",
    "results = pool.map(tp.preprocess, list(dfinal.text))\n",
    "pool.close()\n",
    "\n"
   ]
  },
  {
   "cell_type": "code",
   "execution_count": 90,
   "metadata": {},
   "outputs": [],
   "source": [
    "import numpy as np"
   ]
  },
  {
   "cell_type": "code",
   "execution_count": 92,
   "metadata": {},
   "outputs": [],
   "source": [
    "a = pd.Series(np.arange(1,50000))"
   ]
  },
  {
   "cell_type": "code",
   "execution_count": 95,
   "metadata": {},
   "outputs": [],
   "source": [
    "dfinal[\"pre_processed_text\"] = results"
   ]
  },
  {
   "cell_type": "code",
   "execution_count": 97,
   "metadata": {},
   "outputs": [],
   "source": [
    "dfinal.head()\n",
    "dfinal.to_csv(\"pre_processed_50k.csv\")"
   ]
  },
  {
   "cell_type": "code",
   "execution_count": null,
   "metadata": {},
   "outputs": [],
   "source": [
    "# pd.Series(results)\n",
    "# dfinal.drop(\"pre_processed_text2\", axis=1, inplace=True)\n",
    "# dfinal.assign(e=pd.Series(results))\n",
    "results\n",
    "# results\n",
    "\n",
    "# dfinal[\"pre_processed_text\"] = pd.Series(results)\n",
    "# pd.concat([dfinal, pd.Series(results)], axis=1)\n",
    "# print(dfinal)"
   ]
  },
  {
   "cell_type": "code",
   "execution_count": null,
   "metadata": {},
   "outputs": [],
   "source": []
  }
 ],
 "metadata": {
  "kernelspec": {
   "display_name": "Python 3",
   "language": "python",
   "name": "python3"
  },
  "language_info": {
   "codemirror_mode": {
    "name": "ipython",
    "version": 3
   },
   "file_extension": ".py",
   "mimetype": "text/x-python",
   "name": "python",
   "nbconvert_exporter": "python",
   "pygments_lexer": "ipython3",
   "version": "3.7.4"
  }
 },
 "nbformat": 4,
 "nbformat_minor": 4
}

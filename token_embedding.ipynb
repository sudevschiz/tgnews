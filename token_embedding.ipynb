{
 "cells": [
  {
   "cell_type": "code",
   "execution_count": 6,
   "metadata": {},
   "outputs": [],
   "source": [
    "import pandas as pd\n",
    "import numpy as np\n",
    "\n",
    "df = pd.read_csv(\"Data/Training_Data/alldata_tokenized.csv\")"
   ]
  },
  {
   "cell_type": "code",
   "execution_count": 7,
   "metadata": {},
   "outputs": [
    {
     "data": {
      "text/html": [
       "<div>\n",
       "<style scoped>\n",
       "    .dataframe tbody tr th:only-of-type {\n",
       "        vertical-align: middle;\n",
       "    }\n",
       "\n",
       "    .dataframe tbody tr th {\n",
       "        vertical-align: top;\n",
       "    }\n",
       "\n",
       "    .dataframe thead th {\n",
       "        text-align: right;\n",
       "    }\n",
       "</style>\n",
       "<table border=\"1\" class=\"dataframe\">\n",
       "  <thead>\n",
       "    <tr style=\"text-align: right;\">\n",
       "      <th></th>\n",
       "      <th>Unnamed: 0</th>\n",
       "      <th>label</th>\n",
       "      <th>uuid</th>\n",
       "      <th>title</th>\n",
       "      <th>text</th>\n",
       "      <th>pre_processed_text</th>\n",
       "    </tr>\n",
       "  </thead>\n",
       "  <tbody>\n",
       "    <tr>\n",
       "      <td>0</td>\n",
       "      <td>0</td>\n",
       "      <td>Entertainment</td>\n",
       "      <td>afc6326a4fafdd25b0470d6e3505234ddedda086</td>\n",
       "      <td>Tracy Morgan performs first stand-up show sinc...</td>\n",
       "      <td>Tracy Morgan performs first stand-up show sinc...</td>\n",
       "      <td>['tracy', 'morgan', 'performs', 'first', 'stan...</td>\n",
       "    </tr>\n",
       "    <tr>\n",
       "      <td>1</td>\n",
       "      <td>1</td>\n",
       "      <td>Entertainment</td>\n",
       "      <td>ac0f86c24d1a083941f7499166aeb8992157e06c</td>\n",
       "      <td>Esquire's Sexiest Woman Alive is the sultry Em...</td>\n",
       "      <td>SUBSCRIBE FOLLOW US © 2015 Cox Media Group . B...</td>\n",
       "      <td>['subscribe', 'follow', 'us', 'two thousand an...</td>\n",
       "    </tr>\n",
       "    <tr>\n",
       "      <td>2</td>\n",
       "      <td>2</td>\n",
       "      <td>Entertainment</td>\n",
       "      <td>09b3e01b14eaa909225806ee4bf95ac297b66e00</td>\n",
       "      <td>President Barack Obama interviews author Maril...</td>\n",
       "      <td>FCC Information President Barack Obama intervi...</td>\n",
       "      <td>['fcc', 'information', 'president', 'barack', ...</td>\n",
       "    </tr>\n",
       "    <tr>\n",
       "      <td>3</td>\n",
       "      <td>3</td>\n",
       "      <td>Entertainment</td>\n",
       "      <td>37b6285ff56465ce25602ebf4a2f74f331a70811</td>\n",
       "      <td>I will perform at night clubs, shows – Pastor ...</td>\n",
       "      <td>Source: Ghana | Hitz FM | Euphemia Akpalu Date...</td>\n",
       "      <td>['source', 'ghana', 'hitz', 'fm', 'euphemia', ...</td>\n",
       "    </tr>\n",
       "    <tr>\n",
       "      <td>4</td>\n",
       "      <td>4</td>\n",
       "      <td>Entertainment</td>\n",
       "      <td>150c5db5233b5cbd5eb00dcfce68dd88f21f4287</td>\n",
       "      <td>Suge Knight, Katt Williams, ordered to trial i...</td>\n",
       "      <td>SUBSCRIBE FOLLOW US © 2015 Cox Media Group . B...</td>\n",
       "      <td>['subscribe', 'follow', 'us', 'two thousand an...</td>\n",
       "    </tr>\n",
       "  </tbody>\n",
       "</table>\n",
       "</div>"
      ],
      "text/plain": [
       "   Unnamed: 0          label                                      uuid  \\\n",
       "0           0  Entertainment  afc6326a4fafdd25b0470d6e3505234ddedda086   \n",
       "1           1  Entertainment  ac0f86c24d1a083941f7499166aeb8992157e06c   \n",
       "2           2  Entertainment  09b3e01b14eaa909225806ee4bf95ac297b66e00   \n",
       "3           3  Entertainment  37b6285ff56465ce25602ebf4a2f74f331a70811   \n",
       "4           4  Entertainment  150c5db5233b5cbd5eb00dcfce68dd88f21f4287   \n",
       "\n",
       "                                               title  \\\n",
       "0  Tracy Morgan performs first stand-up show sinc...   \n",
       "1  Esquire's Sexiest Woman Alive is the sultry Em...   \n",
       "2  President Barack Obama interviews author Maril...   \n",
       "3  I will perform at night clubs, shows – Pastor ...   \n",
       "4  Suge Knight, Katt Williams, ordered to trial i...   \n",
       "\n",
       "                                                text  \\\n",
       "0  Tracy Morgan performs first stand-up show sinc...   \n",
       "1  SUBSCRIBE FOLLOW US © 2015 Cox Media Group . B...   \n",
       "2  FCC Information President Barack Obama intervi...   \n",
       "3  Source: Ghana | Hitz FM | Euphemia Akpalu Date...   \n",
       "4  SUBSCRIBE FOLLOW US © 2015 Cox Media Group . B...   \n",
       "\n",
       "                                  pre_processed_text  \n",
       "0  ['tracy', 'morgan', 'performs', 'first', 'stan...  \n",
       "1  ['subscribe', 'follow', 'us', 'two thousand an...  \n",
       "2  ['fcc', 'information', 'president', 'barack', ...  \n",
       "3  ['source', 'ghana', 'hitz', 'fm', 'euphemia', ...  \n",
       "4  ['subscribe', 'follow', 'us', 'two thousand an...  "
      ]
     },
     "execution_count": 7,
     "metadata": {},
     "output_type": "execute_result"
    }
   ],
   "source": [
    "df.head()"
   ]
  },
  {
   "cell_type": "code",
   "execution_count": 1,
   "metadata": {},
   "outputs": [
    {
     "name": "stdout",
     "output_type": "stream",
     "text": [
      "CPU times: user 2min 28s, sys: 1min 7s, total: 3min 36s\n",
      "Wall time: 4min 42s\n"
     ]
    }
   ],
   "source": [
    "%%time\n",
    "\n",
    "def load_vectors(fname):\n",
    "    import io\n",
    "    fin = io.open(fname, 'r', encoding='utf-8', newline='\\n', errors='ignore')\n",
    "    n, d = map(int, fin.readline().split())\n",
    "    data = {}\n",
    "    for line in fin:\n",
    "        tokens = line.rstrip().split(' ')\n",
    "        data[tokens[0]] = list(map(float, tokens[1:]))\n",
    "    return n,d,data\n",
    "\n",
    "# def load_vectors(fname):\n",
    "#     with open(fname, 'r', encoding='utf-8', newline='\\n', errors='ignore') as fin:\n",
    "#         n, d = map(int, fin.readline().split())\n",
    "#         data = {}\n",
    "#         for line in fin:\n",
    "#             tokens = line.rstrip().split(' ')\n",
    "#             data[tokens[0]] = list(map(float, tokens[1:]))\n",
    "#     return n,d,data\n",
    "\n",
    "n,d,ft_dict = load_vectors(\"assets/wiki-news-300d-1M.vec\")"
   ]
  },
  {
   "cell_type": "code",
   "execution_count": 8,
   "metadata": {},
   "outputs": [],
   "source": [
    "import numpy as np\n",
    "def get_ft_vec(token,ft_dict,d=300):\n",
    "    try:\n",
    "        v = np.array(ft_dict[token])\n",
    "    except KeyError:\n",
    "        v = np.array([0]*d)\n",
    "    return v"
   ]
  },
  {
   "cell_type": "code",
   "execution_count": 9,
   "metadata": {},
   "outputs": [],
   "source": [
    "'''Most important section : The way the vectors are created!'''\n",
    "\n",
    "def compute_ft_sum(textlist,ft_dict=ft_dict,d=300):\n",
    "    ret_vec = np.array([0]*d)\n",
    "    for key in textlist:\n",
    "        vec = get_ft_vec(key,ft_dict)\n",
    "        # Vector addition of token embeddings\n",
    "        ret_vec = ret_vec + vec\n",
    "    return list(ret_vec)\n"
   ]
  },
  {
   "cell_type": "code",
   "execution_count": 10,
   "metadata": {},
   "outputs": [
    {
     "name": "stdout",
     "output_type": "stream",
     "text": [
      "CPU times: user 1min 8s, sys: 1min 24s, total: 2min 32s\n",
      "Wall time: 52min 4s\n"
     ]
    }
   ],
   "source": [
    "%%time\n",
    "# (df.head())\n",
    "# df.text\n",
    "from multiprocessing import Pool\n",
    "\n",
    "with Pool() as pool:\n",
    "    results = pool.map(compute_ft_sum, list(df.pre_processed_text))"
   ]
  },
  {
   "cell_type": "code",
   "execution_count": 11,
   "metadata": {},
   "outputs": [],
   "source": [
    "thattable = pd.DataFrame(results)"
   ]
  },
  {
   "cell_type": "code",
   "execution_count": 12,
   "metadata": {},
   "outputs": [],
   "source": [
    "thattable[\"label\"] = df.label"
   ]
  },
  {
   "cell_type": "code",
   "execution_count": 16,
   "metadata": {},
   "outputs": [
    {
     "data": {
      "text/plain": [
       "(383663, 301)"
      ]
     },
     "execution_count": 16,
     "metadata": {},
     "output_type": "execute_result"
    }
   ],
   "source": [
    "thattable.shape"
   ]
  },
  {
   "cell_type": "code",
   "execution_count": 13,
   "metadata": {},
   "outputs": [],
   "source": [
    "thattable.to_csv(\"Data/Training_Data/alldata_embedded_vector.csv\",index=False)"
   ]
  },
  {
   "cell_type": "code",
   "execution_count": 14,
   "metadata": {},
   "outputs": [],
   "source": [
    "def norm_to_unit_vector(df):\n",
    "    sq = np.square(df.drop(\"label\", axis=1))\n",
    "    sqrrt = np.sqrt(sq.sum(axis=0))\n",
    "\n",
    "    final = df.drop(\"label\", axis=1).divide(sqrrt, axis=1)\n",
    "    return final"
   ]
  },
  {
   "cell_type": "code",
   "execution_count": 15,
   "metadata": {},
   "outputs": [],
   "source": [
    "df_norm = norm_to_unit_vector(thattable)"
   ]
  },
  {
   "cell_type": "code",
   "execution_count": 17,
   "metadata": {},
   "outputs": [],
   "source": [
    "df_norm[\"label\"] = thattable[\"label\"]"
   ]
  },
  {
   "cell_type": "code",
   "execution_count": 18,
   "metadata": {},
   "outputs": [],
   "source": [
    "df_norm.to_csv(\"Data/Training_Data/alldata_embedded_vector_norm.csv\",index=False)"
   ]
  },
  {
   "cell_type": "code",
   "execution_count": null,
   "metadata": {},
   "outputs": [],
   "source": []
  }
 ],
 "metadata": {
  "kernelspec": {
   "display_name": "Python 3",
   "language": "python",
   "name": "python3"
  },
  "language_info": {
   "codemirror_mode": {
    "name": "ipython",
    "version": 3
   },
   "file_extension": ".py",
   "mimetype": "text/x-python",
   "name": "python",
   "nbconvert_exporter": "python",
   "pygments_lexer": "ipython3",
   "version": "3.7.4"
  }
 },
 "nbformat": 4,
 "nbformat_minor": 4
}

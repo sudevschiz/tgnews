{
 "cells": [
  {
   "cell_type": "code",
   "execution_count": 1,
   "metadata": {},
   "outputs": [
    {
     "name": "stderr",
     "output_type": "stream",
     "text": [
      "/Users/sudevchirappat/opt/anaconda3/lib/python3.7/site-packages/lightgbm/__init__.py:48: UserWarning: Starting from version 2.2.1, the library file in distribution wheels for macOS is built by the Apple Clang (Xcode_8.3.3) compiler.\n",
      "This means that in case of installing LightGBM from PyPI via the ``pip install lightgbm`` command, you don't need to install the gcc compiler anymore.\n",
      "Instead of that, you need to install the OpenMP library, which is required for running LightGBM on the system with the Apple Clang compiler.\n",
      "You can install the OpenMP library by the following command: ``brew install libomp``.\n",
      "  \"You can install the OpenMP library by the following command: ``brew install libomp``.\", UserWarning)\n"
     ]
    }
   ],
   "source": [
    "import pandas as pd\n",
    "import numpy as np\n",
    "\n",
    "import lightgbm as lgb\n",
    "import sklearn.datasets\n",
    "import sklearn.metrics\n",
    "from sklearn.model_selection import train_test_split\n",
    "\n",
    "import text_preprocessing as tp\n",
    "\n",
    "from multiprocessing import Pool\n",
    "from multiprocessing import cpu_count\n",
    "\n",
    "import codecs\n",
    "import json\n",
    "import os\n",
    "import csv\n",
    "\n",
    "import pickle"
   ]
  },
  {
   "cell_type": "markdown",
   "metadata": {},
   "source": [
    "# Collect and Pre-processing training data"
   ]
  },
  {
   "cell_type": "markdown",
   "metadata": {},
   "source": [
    "Training data sourced from here : \n",
    "https://www.kaggle.com/rmisra/news-category-dataset"
   ]
  },
  {
   "cell_type": "code",
   "execution_count": 2,
   "metadata": {},
   "outputs": [],
   "source": [
    "df_kaggle = pd.read_json('Data/Training_Data/News_Category_Dataset_v2.json',lines=True)"
   ]
  },
  {
   "cell_type": "code",
   "execution_count": 3,
   "metadata": {},
   "outputs": [
    {
     "data": {
      "text/html": [
       "<div>\n",
       "<style scoped>\n",
       "    .dataframe tbody tr th:only-of-type {\n",
       "        vertical-align: middle;\n",
       "    }\n",
       "\n",
       "    .dataframe tbody tr th {\n",
       "        vertical-align: top;\n",
       "    }\n",
       "\n",
       "    .dataframe thead th {\n",
       "        text-align: right;\n",
       "    }\n",
       "</style>\n",
       "<table border=\"1\" class=\"dataframe\">\n",
       "  <thead>\n",
       "    <tr style=\"text-align: right;\">\n",
       "      <th></th>\n",
       "      <th>category</th>\n",
       "      <th>headline</th>\n",
       "      <th>authors</th>\n",
       "      <th>link</th>\n",
       "      <th>short_description</th>\n",
       "      <th>date</th>\n",
       "    </tr>\n",
       "  </thead>\n",
       "  <tbody>\n",
       "    <tr>\n",
       "      <td>0</td>\n",
       "      <td>CRIME</td>\n",
       "      <td>There Were 2 Mass Shootings In Texas Last Week...</td>\n",
       "      <td>Melissa Jeltsen</td>\n",
       "      <td>https://www.huffingtonpost.com/entry/texas-ama...</td>\n",
       "      <td>She left her husband. He killed their children...</td>\n",
       "      <td>2018-05-26</td>\n",
       "    </tr>\n",
       "    <tr>\n",
       "      <td>1</td>\n",
       "      <td>ENTERTAINMENT</td>\n",
       "      <td>Will Smith Joins Diplo And Nicky Jam For The 2...</td>\n",
       "      <td>Andy McDonald</td>\n",
       "      <td>https://www.huffingtonpost.com/entry/will-smit...</td>\n",
       "      <td>Of course it has a song.</td>\n",
       "      <td>2018-05-26</td>\n",
       "    </tr>\n",
       "    <tr>\n",
       "      <td>2</td>\n",
       "      <td>ENTERTAINMENT</td>\n",
       "      <td>Hugh Grant Marries For The First Time At Age 57</td>\n",
       "      <td>Ron Dicker</td>\n",
       "      <td>https://www.huffingtonpost.com/entry/hugh-gran...</td>\n",
       "      <td>The actor and his longtime girlfriend Anna Ebe...</td>\n",
       "      <td>2018-05-26</td>\n",
       "    </tr>\n",
       "    <tr>\n",
       "      <td>3</td>\n",
       "      <td>ENTERTAINMENT</td>\n",
       "      <td>Jim Carrey Blasts 'Castrato' Adam Schiff And D...</td>\n",
       "      <td>Ron Dicker</td>\n",
       "      <td>https://www.huffingtonpost.com/entry/jim-carre...</td>\n",
       "      <td>The actor gives Dems an ass-kicking for not fi...</td>\n",
       "      <td>2018-05-26</td>\n",
       "    </tr>\n",
       "    <tr>\n",
       "      <td>4</td>\n",
       "      <td>ENTERTAINMENT</td>\n",
       "      <td>Julianna Margulies Uses Donald Trump Poop Bags...</td>\n",
       "      <td>Ron Dicker</td>\n",
       "      <td>https://www.huffingtonpost.com/entry/julianna-...</td>\n",
       "      <td>The \"Dietland\" actress said using the bags is ...</td>\n",
       "      <td>2018-05-26</td>\n",
       "    </tr>\n",
       "  </tbody>\n",
       "</table>\n",
       "</div>"
      ],
      "text/plain": [
       "        category                                           headline  \\\n",
       "0          CRIME  There Were 2 Mass Shootings In Texas Last Week...   \n",
       "1  ENTERTAINMENT  Will Smith Joins Diplo And Nicky Jam For The 2...   \n",
       "2  ENTERTAINMENT    Hugh Grant Marries For The First Time At Age 57   \n",
       "3  ENTERTAINMENT  Jim Carrey Blasts 'Castrato' Adam Schiff And D...   \n",
       "4  ENTERTAINMENT  Julianna Margulies Uses Donald Trump Poop Bags...   \n",
       "\n",
       "           authors                                               link  \\\n",
       "0  Melissa Jeltsen  https://www.huffingtonpost.com/entry/texas-ama...   \n",
       "1    Andy McDonald  https://www.huffingtonpost.com/entry/will-smit...   \n",
       "2       Ron Dicker  https://www.huffingtonpost.com/entry/hugh-gran...   \n",
       "3       Ron Dicker  https://www.huffingtonpost.com/entry/jim-carre...   \n",
       "4       Ron Dicker  https://www.huffingtonpost.com/entry/julianna-...   \n",
       "\n",
       "                                   short_description       date  \n",
       "0  She left her husband. He killed their children... 2018-05-26  \n",
       "1                           Of course it has a song. 2018-05-26  \n",
       "2  The actor and his longtime girlfriend Anna Ebe... 2018-05-26  \n",
       "3  The actor gives Dems an ass-kicking for not fi... 2018-05-26  \n",
       "4  The \"Dietland\" actress said using the bags is ... 2018-05-26  "
      ]
     },
     "execution_count": 3,
     "metadata": {},
     "output_type": "execute_result"
    }
   ],
   "source": [
    "df_kaggle.head()"
   ]
  },
  {
   "cell_type": "code",
   "execution_count": 4,
   "metadata": {},
   "outputs": [],
   "source": [
    "relabel = {\n",
    "    \"POLITICS\"\t: \"Society\",\n",
    "\"WELLNESS\": \"Other\",\n",
    "\"ENTERTAINMENT\" :\t\"Entertainment\",\n",
    "\"TRAVEL\"\t: \"Other\",\n",
    "\"STYLE & BEAUTY\"\t: \"Entertainment\",\n",
    "\"PARENTING\":\t\"Other\",\n",
    "\"HEALTHY LIVING\"\t: \"Other\",\n",
    "\"QUEER VOICES\"\t: \"Society\",\n",
    "\"FOOD & DRINK\"\t: \"Other\",\n",
    "\"BUSINESS\"\t: \"Economy\",\n",
    "\"COMEDY\"\t: \"Entertainment\",\n",
    "\"SPORTS\"\t: \"Sports\",\n",
    "\"BLACK VOICES\":\t\"Society\",\n",
    "\"HOME & LIVING\"\t: \"Other\",\n",
    "\"PARENTS\"\t: \"Other\",\n",
    "\"THE WORLDPOST\"\t:\"Society\",\n",
    "\"WEDDINGS\"\t:\"Other\",\n",
    "\"WOMEN\"\t:\"Other\",\n",
    "\"IMPACT\"\t:\"Society\",\n",
    "\"DIVORCE\" :\t\"Other\",\n",
    "\"CRIME\"\t: \"Society\",\n",
    "\"MEDIA\" :\t\"Entertainment\",\n",
    "\"WEIRD NEWS\"\t: \"Other\",\n",
    "\"GREEN\" :\t\"Society\",\n",
    "\"WORLDPOST\"\t : \"Society\",\n",
    "\"RELIGION\"\t: \"Other\",\n",
    "\"STYLE\"\t : \"Entertainment\",\n",
    "\"SCIENCE\"\t: \"Science\",\n",
    "\"WORLD NEWS\"\t: \"Society\",\n",
    "\"TASTE\"\t:\"Entertainment\",\n",
    "\"TECH\"\t:\"Technology\",\n",
    "\"MONEY\"\t:\"Economy\",\n",
    "\"ARTS\"\t:\"Entertainment\",\n",
    "\"FIFTY\"\t:\"Other\",\n",
    "\"GOOD NEWS\" :\t\"Other\",\n",
    "\"ARTS & CULTURE\"\t:\"Entertainment\",\n",
    "\"ENVIRONMENT\"\t:\"Society\",\n",
    "\"COLLEGE\"\t:\"Other\",\n",
    "\"LATINO VOICES\":\t\"Society\",\n",
    "\"CULTURE & ARTS\"\t:\"Entertainment\",\n",
    "\"EDUCATION\"\t:\"Science\"\n",
    "}"
   ]
  },
  {
   "cell_type": "code",
   "execution_count": 5,
   "metadata": {},
   "outputs": [],
   "source": [
    "df_kaggle[\"category\"].replace(relabel, inplace=True)"
   ]
  },
  {
   "cell_type": "code",
   "execution_count": 6,
   "metadata": {},
   "outputs": [
    {
     "data": {
      "text/html": [
       "<div>\n",
       "<style scoped>\n",
       "    .dataframe tbody tr th:only-of-type {\n",
       "        vertical-align: middle;\n",
       "    }\n",
       "\n",
       "    .dataframe tbody tr th {\n",
       "        vertical-align: top;\n",
       "    }\n",
       "\n",
       "    .dataframe thead th {\n",
       "        text-align: right;\n",
       "    }\n",
       "</style>\n",
       "<table border=\"1\" class=\"dataframe\">\n",
       "  <thead>\n",
       "    <tr style=\"text-align: right;\">\n",
       "      <th></th>\n",
       "      <th>category</th>\n",
       "      <th>headline</th>\n",
       "      <th>authors</th>\n",
       "      <th>link</th>\n",
       "      <th>short_description</th>\n",
       "      <th>date</th>\n",
       "    </tr>\n",
       "  </thead>\n",
       "  <tbody>\n",
       "    <tr>\n",
       "      <td>0</td>\n",
       "      <td>Society</td>\n",
       "      <td>There Were 2 Mass Shootings In Texas Last Week...</td>\n",
       "      <td>Melissa Jeltsen</td>\n",
       "      <td>https://www.huffingtonpost.com/entry/texas-ama...</td>\n",
       "      <td>She left her husband. He killed their children...</td>\n",
       "      <td>2018-05-26</td>\n",
       "    </tr>\n",
       "    <tr>\n",
       "      <td>1</td>\n",
       "      <td>Entertainment</td>\n",
       "      <td>Will Smith Joins Diplo And Nicky Jam For The 2...</td>\n",
       "      <td>Andy McDonald</td>\n",
       "      <td>https://www.huffingtonpost.com/entry/will-smit...</td>\n",
       "      <td>Of course it has a song.</td>\n",
       "      <td>2018-05-26</td>\n",
       "    </tr>\n",
       "    <tr>\n",
       "      <td>2</td>\n",
       "      <td>Entertainment</td>\n",
       "      <td>Hugh Grant Marries For The First Time At Age 57</td>\n",
       "      <td>Ron Dicker</td>\n",
       "      <td>https://www.huffingtonpost.com/entry/hugh-gran...</td>\n",
       "      <td>The actor and his longtime girlfriend Anna Ebe...</td>\n",
       "      <td>2018-05-26</td>\n",
       "    </tr>\n",
       "    <tr>\n",
       "      <td>3</td>\n",
       "      <td>Entertainment</td>\n",
       "      <td>Jim Carrey Blasts 'Castrato' Adam Schiff And D...</td>\n",
       "      <td>Ron Dicker</td>\n",
       "      <td>https://www.huffingtonpost.com/entry/jim-carre...</td>\n",
       "      <td>The actor gives Dems an ass-kicking for not fi...</td>\n",
       "      <td>2018-05-26</td>\n",
       "    </tr>\n",
       "    <tr>\n",
       "      <td>4</td>\n",
       "      <td>Entertainment</td>\n",
       "      <td>Julianna Margulies Uses Donald Trump Poop Bags...</td>\n",
       "      <td>Ron Dicker</td>\n",
       "      <td>https://www.huffingtonpost.com/entry/julianna-...</td>\n",
       "      <td>The \"Dietland\" actress said using the bags is ...</td>\n",
       "      <td>2018-05-26</td>\n",
       "    </tr>\n",
       "  </tbody>\n",
       "</table>\n",
       "</div>"
      ],
      "text/plain": [
       "        category                                           headline  \\\n",
       "0        Society  There Were 2 Mass Shootings In Texas Last Week...   \n",
       "1  Entertainment  Will Smith Joins Diplo And Nicky Jam For The 2...   \n",
       "2  Entertainment    Hugh Grant Marries For The First Time At Age 57   \n",
       "3  Entertainment  Jim Carrey Blasts 'Castrato' Adam Schiff And D...   \n",
       "4  Entertainment  Julianna Margulies Uses Donald Trump Poop Bags...   \n",
       "\n",
       "           authors                                               link  \\\n",
       "0  Melissa Jeltsen  https://www.huffingtonpost.com/entry/texas-ama...   \n",
       "1    Andy McDonald  https://www.huffingtonpost.com/entry/will-smit...   \n",
       "2       Ron Dicker  https://www.huffingtonpost.com/entry/hugh-gran...   \n",
       "3       Ron Dicker  https://www.huffingtonpost.com/entry/jim-carre...   \n",
       "4       Ron Dicker  https://www.huffingtonpost.com/entry/julianna-...   \n",
       "\n",
       "                                   short_description       date  \n",
       "0  She left her husband. He killed their children... 2018-05-26  \n",
       "1                           Of course it has a song. 2018-05-26  \n",
       "2  The actor and his longtime girlfriend Anna Ebe... 2018-05-26  \n",
       "3  The actor gives Dems an ass-kicking for not fi... 2018-05-26  \n",
       "4  The \"Dietland\" actress said using the bags is ... 2018-05-26  "
      ]
     },
     "execution_count": 6,
     "metadata": {},
     "output_type": "execute_result"
    }
   ],
   "source": [
    "df_kaggle.head()"
   ]
  },
  {
   "cell_type": "code",
   "execution_count": 7,
   "metadata": {},
   "outputs": [],
   "source": [
    "df_kaggle['all_text'] = df_kaggle['headline'] + \"\\n\" + df_kaggle['short_description']"
   ]
  },
  {
   "cell_type": "code",
   "execution_count": 8,
   "metadata": {},
   "outputs": [
    {
     "data": {
      "text/plain": [
       "['two',\n",
       " 'mass',\n",
       " 'shootings',\n",
       " 'texas',\n",
       " 'last',\n",
       " 'week',\n",
       " 'one',\n",
       " 'tv',\n",
       " 'left',\n",
       " 'husband',\n",
       " 'killed',\n",
       " 'children',\n",
       " 'another',\n",
       " 'day',\n",
       " 'america']"
      ]
     },
     "execution_count": 8,
     "metadata": {},
     "output_type": "execute_result"
    }
   ],
   "source": [
    "tp.preprocess(df_kaggle['all_text'][0])"
   ]
  },
  {
   "cell_type": "code",
   "execution_count": 9,
   "metadata": {},
   "outputs": [
    {
     "name": "stdout",
     "output_type": "stream",
     "text": [
      "CPU times: user 1.46 s, sys: 439 ms, total: 1.9 s\n",
      "Wall time: 3min 48s\n"
     ]
    }
   ],
   "source": [
    "%%time\n",
    "with Pool(cpu_count()) as pool:\n",
    "    results = pool.map(tp.preprocess, list(df_kaggle.all_text))"
   ]
  },
  {
   "cell_type": "code",
   "execution_count": 10,
   "metadata": {},
   "outputs": [],
   "source": [
    "kaggle_dataset = []\n",
    "i = 0\n",
    "for r in results:\n",
    "    d = {'label':df_kaggle.category[i],\n",
    "        'tokens':r,\n",
    "        'url':df_kaggle.link[i],\n",
    "        'date':df_kaggle.date[i]}\n",
    "    i = i+1\n",
    "    kaggle_dataset.append(d)"
   ]
  },
  {
   "cell_type": "code",
   "execution_count": 11,
   "metadata": {},
   "outputs": [],
   "source": [
    "# Save to pickle\n",
    "with open('Data/kaggle_dataset.pickle',\"wb\") as p:\n",
    "    pickle.dump(kaggle_dataset,p)"
   ]
  },
  {
   "cell_type": "code",
   "execution_count": 12,
   "metadata": {},
   "outputs": [],
   "source": [
    "# Load from pickle\n",
    "with open('Data/kaggle_dataset.pickle','rb') as p:\n",
    "    kaggle_dict = pickle.load(p)"
   ]
  },
  {
   "cell_type": "code",
   "execution_count": 13,
   "metadata": {},
   "outputs": [],
   "source": [
    "df = pd.DataFrame(kaggle_dict)"
   ]
  },
  {
   "cell_type": "code",
   "execution_count": 14,
   "metadata": {},
   "outputs": [
    {
     "data": {
      "text/html": [
       "<div>\n",
       "<style scoped>\n",
       "    .dataframe tbody tr th:only-of-type {\n",
       "        vertical-align: middle;\n",
       "    }\n",
       "\n",
       "    .dataframe tbody tr th {\n",
       "        vertical-align: top;\n",
       "    }\n",
       "\n",
       "    .dataframe thead th {\n",
       "        text-align: right;\n",
       "    }\n",
       "</style>\n",
       "<table border=\"1\" class=\"dataframe\">\n",
       "  <thead>\n",
       "    <tr style=\"text-align: right;\">\n",
       "      <th></th>\n",
       "      <th>label</th>\n",
       "      <th>tokens</th>\n",
       "      <th>url</th>\n",
       "      <th>date</th>\n",
       "    </tr>\n",
       "  </thead>\n",
       "  <tbody>\n",
       "    <tr>\n",
       "      <td>0</td>\n",
       "      <td>Society</td>\n",
       "      <td>[two, mass, shootings, texas, last, week, one,...</td>\n",
       "      <td>https://www.huffingtonpost.com/entry/texas-ama...</td>\n",
       "      <td>2018-05-26</td>\n",
       "    </tr>\n",
       "    <tr>\n",
       "      <td>1</td>\n",
       "      <td>Entertainment</td>\n",
       "      <td>[smith, joins, diplo, nicky, jam, two thousand...</td>\n",
       "      <td>https://www.huffingtonpost.com/entry/will-smit...</td>\n",
       "      <td>2018-05-26</td>\n",
       "    </tr>\n",
       "    <tr>\n",
       "      <td>2</td>\n",
       "      <td>Entertainment</td>\n",
       "      <td>[hugh, grant, marries, first, time, age, fifty...</td>\n",
       "      <td>https://www.huffingtonpost.com/entry/hugh-gran...</td>\n",
       "      <td>2018-05-26</td>\n",
       "    </tr>\n",
       "    <tr>\n",
       "      <td>3</td>\n",
       "      <td>Entertainment</td>\n",
       "      <td>[jim, carrey, blasts, castrato, adam, schiff, ...</td>\n",
       "      <td>https://www.huffingtonpost.com/entry/jim-carre...</td>\n",
       "      <td>2018-05-26</td>\n",
       "    </tr>\n",
       "    <tr>\n",
       "      <td>4</td>\n",
       "      <td>Entertainment</td>\n",
       "      <td>[julianna, margulies, uses, donald, trump, poo...</td>\n",
       "      <td>https://www.huffingtonpost.com/entry/julianna-...</td>\n",
       "      <td>2018-05-26</td>\n",
       "    </tr>\n",
       "  </tbody>\n",
       "</table>\n",
       "</div>"
      ],
      "text/plain": [
       "           label                                             tokens  \\\n",
       "0        Society  [two, mass, shootings, texas, last, week, one,...   \n",
       "1  Entertainment  [smith, joins, diplo, nicky, jam, two thousand...   \n",
       "2  Entertainment  [hugh, grant, marries, first, time, age, fifty...   \n",
       "3  Entertainment  [jim, carrey, blasts, castrato, adam, schiff, ...   \n",
       "4  Entertainment  [julianna, margulies, uses, donald, trump, poo...   \n",
       "\n",
       "                                                 url       date  \n",
       "0  https://www.huffingtonpost.com/entry/texas-ama... 2018-05-26  \n",
       "1  https://www.huffingtonpost.com/entry/will-smit... 2018-05-26  \n",
       "2  https://www.huffingtonpost.com/entry/hugh-gran... 2018-05-26  \n",
       "3  https://www.huffingtonpost.com/entry/jim-carre... 2018-05-26  \n",
       "4  https://www.huffingtonpost.com/entry/julianna-... 2018-05-26  "
      ]
     },
     "execution_count": 14,
     "metadata": {},
     "output_type": "execute_result"
    }
   ],
   "source": [
    "df.head()"
   ]
  },
  {
   "cell_type": "code",
   "execution_count": 15,
   "metadata": {},
   "outputs": [],
   "source": [
    "def load_vectors(fname):\n",
    "    import io\n",
    "    fin = io.open(fname, 'r', encoding='utf-8', newline='\\n', errors='ignore')\n",
    "    n, d = map(int, fin.readline().split())\n",
    "    data = {}\n",
    "    for line in fin:\n",
    "        tokens = line.rstrip().split(' ')\n",
    "        data[tokens[0]] = list(map(float, tokens[1:]))\n",
    "    return n,d,data\n"
   ]
  },
  {
   "cell_type": "code",
   "execution_count": 16,
   "metadata": {},
   "outputs": [
    {
     "name": "stdout",
     "output_type": "stream",
     "text": [
      "CPU times: user 1min 3s, sys: 21.8 s, total: 1min 25s\n",
      "Wall time: 1min 28s\n"
     ]
    }
   ],
   "source": [
    "%%time\n",
    "n,d,ft_dict = load_vectors(\"assets/wiki-news-300d-1M.vec\")"
   ]
  },
  {
   "cell_type": "code",
   "execution_count": 17,
   "metadata": {},
   "outputs": [],
   "source": [
    "def get_ft_vec(token,ft_dict,d=300):\n",
    "    try:\n",
    "        v = np.array(ft_dict[token])\n",
    "    except KeyError:\n",
    "        v = np.array([0]*d)\n",
    "    return v"
   ]
  },
  {
   "cell_type": "code",
   "execution_count": 18,
   "metadata": {},
   "outputs": [],
   "source": [
    "def compute_ft_sum(textlist,ft_dict=None,d=300,**kwargs):\n",
    "    '''ft_dict should be loaded to memory before-hand!\n",
    "    If ft_dict is not passed as it is, the relative path\n",
    "    of the vector has to be provided in the argument \n",
    "    'vec_loc'\n",
    "    TODO : Need better implemenation of this.\n",
    "    '''\n",
    "    \n",
    "    if not ft_dict:\n",
    "        try:\n",
    "            # Load the FastText vector. MUST IMPROVE SPEEDS\n",
    "            from time import time\n",
    "            t_start = time()\n",
    "            _,_,ft_dict = load_vectors(EN_VEC)\n",
    "            logger.info(f\"FT_Vector loaded in {time()-t_start} seconds\")\n",
    "        except FileNotFoundError as e:\n",
    "            logger.error(\"Vector not found\")\n",
    "    \n",
    "    ret_vec = np.array([0]*d)\n",
    "    for key in textlist:\n",
    "        vec = get_ft_vec(key,ft_dict)\n",
    "        # Vector addition of token embeddings\n",
    "        ret_vec = ret_vec + vec\n",
    "    # Now that tokens are all added up,\n",
    "    # divide by number of tokens to get\n",
    "    # average weight\n",
    "    ret_vec = ret_vec/len(textlist)\n",
    " \n",
    "    return ret_vec"
   ]
  },
  {
   "cell_type": "code",
   "execution_count": 19,
   "metadata": {},
   "outputs": [],
   "source": [
    "# This function is to convert the 300D vector \n",
    "# in to a unit vector.\n",
    "\n",
    "def norm_to_unit_vector(df):\n",
    "    sq = np.square(df.drop(\"label\", axis=1))\n",
    "    sqrrt = np.sqrt(sq.sum(axis=0))\n",
    "\n",
    "    final = df.drop(\"label\", axis=1).divide(sqrrt, axis=1)\n",
    "    return final"
   ]
  },
  {
   "cell_type": "code",
   "execution_count": 20,
   "metadata": {},
   "outputs": [
    {
     "name": "stderr",
     "output_type": "stream",
     "text": [
      "/Users/sudevchirappat/opt/anaconda3/lib/python3.7/site-packages/ipykernel_launcher.py:27: RuntimeWarning: invalid value encountered in true_divide\n"
     ]
    },
    {
     "name": "stdout",
     "output_type": "stream",
     "text": [
      "CPU times: user 1min 40s, sys: 2.96 s, total: 1min 43s\n",
      "Wall time: 1min 44s\n"
     ]
    }
   ],
   "source": [
    "%%time\n",
    "'''\n",
    "This could've been multiprocessed. But couldn't figure how to \n",
    "pass the ft_dict in the right fashion. FAILURE -_-\n",
    "'''\n",
    "vector = df.tokens.map(lambda x : compute_ft_sum(x,ft_dict=ft_dict))"
   ]
  },
  {
   "cell_type": "code",
   "execution_count": 21,
   "metadata": {},
   "outputs": [
    {
     "name": "stderr",
     "output_type": "stream",
     "text": [
      "/Users/sudevchirappat/opt/anaconda3/lib/python3.7/site-packages/ipykernel_launcher.py:1: FutureWarning: from_items is deprecated. Please use DataFrame.from_dict(dict(items), ...) instead. DataFrame.from_dict(OrderedDict(items)) may be used to preserve the key order.\n",
      "  \"\"\"Entry point for launching an IPython kernel.\n"
     ]
    },
    {
     "name": "stdout",
     "output_type": "stream",
     "text": [
      "CPU times: user 10.8 s, sys: 22.2 s, total: 33 s\n",
      "Wall time: 36.6 s\n"
     ]
    }
   ],
   "source": [
    "%%time\n",
    "df_vector = pd.DataFrame.from_items(zip(vector.index, vector.values)).T"
   ]
  },
  {
   "cell_type": "code",
   "execution_count": 22,
   "metadata": {},
   "outputs": [],
   "source": [
    "df_vector['label'] = df['label']"
   ]
  },
  {
   "cell_type": "code",
   "execution_count": 23,
   "metadata": {},
   "outputs": [],
   "source": [
    "# Save to file\n",
    "df_vector.to_csv(\"Data/Training_Data/df_kaggle_vector.csv\",index=False)"
   ]
  },
  {
   "cell_type": "code",
   "execution_count": 24,
   "metadata": {},
   "outputs": [],
   "source": [
    "# If normalization is required\n",
    "# df_norm = norm_to_unit_vector(df_vector)"
   ]
  },
  {
   "cell_type": "code",
   "execution_count": 25,
   "metadata": {},
   "outputs": [],
   "source": [
    "# Load from file\n",
    "df = pd.read_csv('Data/Training_Data/df_kaggle_vector.csv')"
   ]
  },
  {
   "cell_type": "code",
   "execution_count": 26,
   "metadata": {},
   "outputs": [
    {
     "data": {
      "text/html": [
       "<div>\n",
       "<style scoped>\n",
       "    .dataframe tbody tr th:only-of-type {\n",
       "        vertical-align: middle;\n",
       "    }\n",
       "\n",
       "    .dataframe tbody tr th {\n",
       "        vertical-align: top;\n",
       "    }\n",
       "\n",
       "    .dataframe thead th {\n",
       "        text-align: right;\n",
       "    }\n",
       "</style>\n",
       "<table border=\"1\" class=\"dataframe\">\n",
       "  <thead>\n",
       "    <tr style=\"text-align: right;\">\n",
       "      <th></th>\n",
       "      <th>0</th>\n",
       "      <th>1</th>\n",
       "      <th>2</th>\n",
       "      <th>3</th>\n",
       "      <th>4</th>\n",
       "      <th>5</th>\n",
       "      <th>6</th>\n",
       "      <th>7</th>\n",
       "      <th>8</th>\n",
       "      <th>9</th>\n",
       "      <th>...</th>\n",
       "      <th>291</th>\n",
       "      <th>292</th>\n",
       "      <th>293</th>\n",
       "      <th>294</th>\n",
       "      <th>295</th>\n",
       "      <th>296</th>\n",
       "      <th>297</th>\n",
       "      <th>298</th>\n",
       "      <th>299</th>\n",
       "      <th>label</th>\n",
       "    </tr>\n",
       "  </thead>\n",
       "  <tbody>\n",
       "    <tr>\n",
       "      <td>0</td>\n",
       "      <td>0.033573</td>\n",
       "      <td>0.030120</td>\n",
       "      <td>-0.013333</td>\n",
       "      <td>-0.004280</td>\n",
       "      <td>-0.010280</td>\n",
       "      <td>-0.000020</td>\n",
       "      <td>0.046047</td>\n",
       "      <td>-0.003707</td>\n",
       "      <td>0.016067</td>\n",
       "      <td>0.000820</td>\n",
       "      <td>...</td>\n",
       "      <td>-0.039760</td>\n",
       "      <td>0.043267</td>\n",
       "      <td>0.032080</td>\n",
       "      <td>0.067747</td>\n",
       "      <td>-0.015733</td>\n",
       "      <td>-0.023620</td>\n",
       "      <td>0.070020</td>\n",
       "      <td>0.075827</td>\n",
       "      <td>0.017567</td>\n",
       "      <td>Society</td>\n",
       "    </tr>\n",
       "    <tr>\n",
       "      <td>1</td>\n",
       "      <td>-0.064742</td>\n",
       "      <td>0.023908</td>\n",
       "      <td>-0.004233</td>\n",
       "      <td>-0.030258</td>\n",
       "      <td>-0.014892</td>\n",
       "      <td>0.022708</td>\n",
       "      <td>0.041967</td>\n",
       "      <td>0.011658</td>\n",
       "      <td>0.009667</td>\n",
       "      <td>0.021217</td>\n",
       "      <td>...</td>\n",
       "      <td>-0.042900</td>\n",
       "      <td>-0.022133</td>\n",
       "      <td>0.021533</td>\n",
       "      <td>0.050833</td>\n",
       "      <td>-0.028792</td>\n",
       "      <td>0.011250</td>\n",
       "      <td>0.047133</td>\n",
       "      <td>-0.015700</td>\n",
       "      <td>-0.006367</td>\n",
       "      <td>Entertainment</td>\n",
       "    </tr>\n",
       "    <tr>\n",
       "      <td>2</td>\n",
       "      <td>0.066769</td>\n",
       "      <td>0.007206</td>\n",
       "      <td>-0.010712</td>\n",
       "      <td>-0.059450</td>\n",
       "      <td>-0.050756</td>\n",
       "      <td>0.013675</td>\n",
       "      <td>0.062431</td>\n",
       "      <td>-0.004919</td>\n",
       "      <td>-0.018869</td>\n",
       "      <td>0.041400</td>\n",
       "      <td>...</td>\n",
       "      <td>-0.010281</td>\n",
       "      <td>-0.030531</td>\n",
       "      <td>-0.009381</td>\n",
       "      <td>0.009750</td>\n",
       "      <td>0.042487</td>\n",
       "      <td>-0.039094</td>\n",
       "      <td>0.051881</td>\n",
       "      <td>0.023563</td>\n",
       "      <td>0.040287</td>\n",
       "      <td>Entertainment</td>\n",
       "    </tr>\n",
       "    <tr>\n",
       "      <td>3</td>\n",
       "      <td>-0.012333</td>\n",
       "      <td>-0.007461</td>\n",
       "      <td>-0.100556</td>\n",
       "      <td>0.020939</td>\n",
       "      <td>-0.002461</td>\n",
       "      <td>-0.000728</td>\n",
       "      <td>0.063122</td>\n",
       "      <td>-0.017244</td>\n",
       "      <td>0.030683</td>\n",
       "      <td>-0.013228</td>\n",
       "      <td>...</td>\n",
       "      <td>-0.060050</td>\n",
       "      <td>0.059711</td>\n",
       "      <td>0.038639</td>\n",
       "      <td>0.081500</td>\n",
       "      <td>0.024872</td>\n",
       "      <td>-0.025722</td>\n",
       "      <td>0.081683</td>\n",
       "      <td>-0.010978</td>\n",
       "      <td>-0.054689</td>\n",
       "      <td>Entertainment</td>\n",
       "    </tr>\n",
       "    <tr>\n",
       "      <td>4</td>\n",
       "      <td>-0.012261</td>\n",
       "      <td>0.044161</td>\n",
       "      <td>-0.020506</td>\n",
       "      <td>0.011789</td>\n",
       "      <td>-0.026433</td>\n",
       "      <td>-0.032822</td>\n",
       "      <td>0.030433</td>\n",
       "      <td>-0.011083</td>\n",
       "      <td>0.010517</td>\n",
       "      <td>0.012244</td>\n",
       "      <td>...</td>\n",
       "      <td>-0.014150</td>\n",
       "      <td>0.064528</td>\n",
       "      <td>0.039233</td>\n",
       "      <td>0.055917</td>\n",
       "      <td>0.017133</td>\n",
       "      <td>-0.027028</td>\n",
       "      <td>0.107417</td>\n",
       "      <td>-0.005850</td>\n",
       "      <td>-0.020822</td>\n",
       "      <td>Entertainment</td>\n",
       "    </tr>\n",
       "  </tbody>\n",
       "</table>\n",
       "<p>5 rows × 301 columns</p>\n",
       "</div>"
      ],
      "text/plain": [
       "          0         1         2         3         4         5         6  \\\n",
       "0  0.033573  0.030120 -0.013333 -0.004280 -0.010280 -0.000020  0.046047   \n",
       "1 -0.064742  0.023908 -0.004233 -0.030258 -0.014892  0.022708  0.041967   \n",
       "2  0.066769  0.007206 -0.010712 -0.059450 -0.050756  0.013675  0.062431   \n",
       "3 -0.012333 -0.007461 -0.100556  0.020939 -0.002461 -0.000728  0.063122   \n",
       "4 -0.012261  0.044161 -0.020506  0.011789 -0.026433 -0.032822  0.030433   \n",
       "\n",
       "          7         8         9  ...       291       292       293       294  \\\n",
       "0 -0.003707  0.016067  0.000820  ... -0.039760  0.043267  0.032080  0.067747   \n",
       "1  0.011658  0.009667  0.021217  ... -0.042900 -0.022133  0.021533  0.050833   \n",
       "2 -0.004919 -0.018869  0.041400  ... -0.010281 -0.030531 -0.009381  0.009750   \n",
       "3 -0.017244  0.030683 -0.013228  ... -0.060050  0.059711  0.038639  0.081500   \n",
       "4 -0.011083  0.010517  0.012244  ... -0.014150  0.064528  0.039233  0.055917   \n",
       "\n",
       "        295       296       297       298       299          label  \n",
       "0 -0.015733 -0.023620  0.070020  0.075827  0.017567        Society  \n",
       "1 -0.028792  0.011250  0.047133 -0.015700 -0.006367  Entertainment  \n",
       "2  0.042487 -0.039094  0.051881  0.023563  0.040287  Entertainment  \n",
       "3  0.024872 -0.025722  0.081683 -0.010978 -0.054689  Entertainment  \n",
       "4  0.017133 -0.027028  0.107417 -0.005850 -0.020822  Entertainment  \n",
       "\n",
       "[5 rows x 301 columns]"
      ]
     },
     "execution_count": 26,
     "metadata": {},
     "output_type": "execute_result"
    }
   ],
   "source": [
    "df.head()"
   ]
  },
  {
   "cell_type": "code",
   "execution_count": 27,
   "metadata": {},
   "outputs": [
    {
     "data": {
      "text/plain": [
       "(200853, 301)"
      ]
     },
     "execution_count": 27,
     "metadata": {},
     "output_type": "execute_result"
    }
   ],
   "source": [
    "df.shape"
   ]
  },
  {
   "cell_type": "code",
   "execution_count": 28,
   "metadata": {},
   "outputs": [
    {
     "data": {
      "text/plain": [
       "Other            77197\n",
       "Society          63939\n",
       "Entertainment    41925\n",
       "Economy           7644\n",
       "Sports            4884\n",
       "Science           3182\n",
       "Technology        2082\n",
       "Name: label, dtype: int64"
      ]
     },
     "execution_count": 28,
     "metadata": {},
     "output_type": "execute_result"
    }
   ],
   "source": [
    "df.label.value_counts()"
   ]
  },
  {
   "cell_type": "markdown",
   "metadata": {},
   "source": [
    "### Useful functions"
   ]
  },
  {
   "cell_type": "code",
   "execution_count": 29,
   "metadata": {},
   "outputs": [],
   "source": [
    "def numerize_label(s):\n",
    "    '''\n",
    "    LightGBM accepts '''\n",
    "    d = {'Society|Politics':0,\n",
    "         'Economy|Finance' : 1,\n",
    "         'Tech' : 2,\n",
    "         'Sports' :3,\n",
    "         'Entertainment' :4,\n",
    "         'Science' :5,\n",
    "         'Other' :6}\n",
    "    return s.replace(d, regex=True).map(lambda x : int(x))\n",
    "    "
   ]
  },
  {
   "cell_type": "code",
   "execution_count": 30,
   "metadata": {},
   "outputs": [],
   "source": [
    "def labelize_numeric(arr):\n",
    "    d = {0:'society',\n",
    "         1:'economy',\n",
    "         2:'technology',\n",
    "         3:'sports',\n",
    "         4:'entertainment',\n",
    "         5:'science',\n",
    "         6:'other'}\n",
    "    \n",
    "    return [d[k] for k in arr]"
   ]
  },
  {
   "cell_type": "code",
   "execution_count": 31,
   "metadata": {},
   "outputs": [],
   "source": [
    "def setup_data_for_training(df,drop_cols = ['label']):\n",
    "    # get the labels\n",
    "    y = numerize_label(df['label'])\n",
    "    \n",
    "    x = df.drop(drop_cols, axis=1)\n",
    "\n",
    "    #\n",
    "    # Create training and validation sets\n",
    "    #\n",
    "\n",
    "    # x, x_test, y, y_test = train_test_split(x, y, test_size=0.2, random_state=42, stratify=y)\n",
    "    X_train, X_test, y_train, y_test = train_test_split(x, y, test_size=0.2, random_state=1)\n",
    "\n",
    "    X_train, X_val, y_train, y_val = train_test_split(X_train, y_train, test_size=0.2, random_state=1)\n",
    "\n",
    "    train_data = lgb.Dataset(X_train, label=y_train)\n",
    "    val_data = lgb.Dataset(X_val, label=y_val)\n",
    "    test_data = lgb.Dataset(X_test, label=y_test)\n",
    "    \n",
    "    return train_data,val_data,test_data"
   ]
  },
  {
   "cell_type": "markdown",
   "metadata": {},
   "source": [
    "### Convert the labels to numeric for LightGBM"
   ]
  },
  {
   "cell_type": "code",
   "execution_count": 32,
   "metadata": {},
   "outputs": [],
   "source": [
    "y = numerize_label(df['label'])"
   ]
  },
  {
   "cell_type": "markdown",
   "metadata": {},
   "source": [
    "### Set up train-val-test split"
   ]
  },
  {
   "cell_type": "code",
   "execution_count": 33,
   "metadata": {},
   "outputs": [],
   "source": [
    "train_data,val_data,test_data = setup_data_for_training(df,['label'])"
   ]
  },
  {
   "cell_type": "code",
   "execution_count": 34,
   "metadata": {},
   "outputs": [
    {
     "data": {
      "text/plain": [
       "((128545, 300), (32137, 300), (40171, 300))"
      ]
     },
     "execution_count": 34,
     "metadata": {},
     "output_type": "execute_result"
    }
   ],
   "source": [
    "train_data.data.shape,val_data.data.shape,test_data.data.shape"
   ]
  },
  {
   "cell_type": "markdown",
   "metadata": {},
   "source": [
    "### Set up lightGBM parameters and train the model.\n",
    "\n",
    "Ideally, the hyper-parameters should be tuned using Optuna. But time constraints\n"
   ]
  },
  {
   "cell_type": "code",
   "execution_count": 35,
   "metadata": {},
   "outputs": [],
   "source": [
    "#\n",
    "# Train the model\n",
    "#\n",
    "parameters = {\n",
    "          \"objective\" : \"multiclass\",\n",
    "          \"num_class\" : 7,\n",
    "          \"num_leaves\" : 60,\n",
    "          \"max_depth\": -1,\n",
    "          \"learning_rate\" : 0.1,\n",
    "          \"bagging_fraction\" : 0.9,  # subsample\n",
    "          \"feature_fraction\" : 0.9,  # colsample_bytree\n",
    "          \"bagging_freq\" : 5,        # subsample_freq\n",
    "          \"bagging_seed\" : 802,\n",
    "          \"verbosity\" : -1 }"
   ]
  },
  {
   "cell_type": "code",
   "execution_count": 36,
   "metadata": {
    "collapsed": true,
    "jupyter": {
     "outputs_hidden": true
    }
   },
   "outputs": [
    {
     "name": "stdout",
     "output_type": "stream",
     "text": [
      "[1]\tvalid_0's multi_logloss: 1.32748\n",
      "Training until validation scores don't improve for 100 rounds\n",
      "[2]\tvalid_0's multi_logloss: 1.27893\n",
      "[3]\tvalid_0's multi_logloss: 1.23817\n",
      "[4]\tvalid_0's multi_logloss: 1.2032\n",
      "[5]\tvalid_0's multi_logloss: 1.17237\n",
      "[6]\tvalid_0's multi_logloss: 1.14495\n",
      "[7]\tvalid_0's multi_logloss: 1.12012\n",
      "[8]\tvalid_0's multi_logloss: 1.09779\n",
      "[9]\tvalid_0's multi_logloss: 1.07807\n",
      "[10]\tvalid_0's multi_logloss: 1.06006\n",
      "[11]\tvalid_0's multi_logloss: 1.04399\n",
      "[12]\tvalid_0's multi_logloss: 1.02853\n",
      "[13]\tvalid_0's multi_logloss: 1.01465\n",
      "[14]\tvalid_0's multi_logloss: 1.0022\n",
      "[15]\tvalid_0's multi_logloss: 0.989756\n",
      "[16]\tvalid_0's multi_logloss: 0.978655\n",
      "[17]\tvalid_0's multi_logloss: 0.968455\n",
      "[18]\tvalid_0's multi_logloss: 0.9587\n",
      "[19]\tvalid_0's multi_logloss: 0.949642\n",
      "[20]\tvalid_0's multi_logloss: 0.941254\n",
      "[21]\tvalid_0's multi_logloss: 0.933433\n",
      "[22]\tvalid_0's multi_logloss: 0.925917\n",
      "[23]\tvalid_0's multi_logloss: 0.918834\n",
      "[24]\tvalid_0's multi_logloss: 0.912115\n",
      "[25]\tvalid_0's multi_logloss: 0.90601\n",
      "[26]\tvalid_0's multi_logloss: 0.900127\n",
      "[27]\tvalid_0's multi_logloss: 0.894395\n",
      "[28]\tvalid_0's multi_logloss: 0.888983\n",
      "[29]\tvalid_0's multi_logloss: 0.883847\n",
      "[30]\tvalid_0's multi_logloss: 0.878725\n",
      "[31]\tvalid_0's multi_logloss: 0.874001\n",
      "[32]\tvalid_0's multi_logloss: 0.86955\n",
      "[33]\tvalid_0's multi_logloss: 0.865248\n",
      "[34]\tvalid_0's multi_logloss: 0.861511\n",
      "[35]\tvalid_0's multi_logloss: 0.85751\n",
      "[36]\tvalid_0's multi_logloss: 0.853787\n",
      "[37]\tvalid_0's multi_logloss: 0.850236\n",
      "[38]\tvalid_0's multi_logloss: 0.846811\n",
      "[39]\tvalid_0's multi_logloss: 0.843636\n",
      "[40]\tvalid_0's multi_logloss: 0.840451\n",
      "[41]\tvalid_0's multi_logloss: 0.83706\n",
      "[42]\tvalid_0's multi_logloss: 0.834176\n",
      "[43]\tvalid_0's multi_logloss: 0.831418\n",
      "[44]\tvalid_0's multi_logloss: 0.828517\n",
      "[45]\tvalid_0's multi_logloss: 0.825934\n",
      "[46]\tvalid_0's multi_logloss: 0.823379\n",
      "[47]\tvalid_0's multi_logloss: 0.820916\n",
      "[48]\tvalid_0's multi_logloss: 0.818544\n",
      "[49]\tvalid_0's multi_logloss: 0.816271\n",
      "[50]\tvalid_0's multi_logloss: 0.814193\n",
      "[51]\tvalid_0's multi_logloss: 0.812018\n",
      "[52]\tvalid_0's multi_logloss: 0.809954\n",
      "[53]\tvalid_0's multi_logloss: 0.807876\n",
      "[54]\tvalid_0's multi_logloss: 0.80597\n",
      "[55]\tvalid_0's multi_logloss: 0.803994\n",
      "[56]\tvalid_0's multi_logloss: 0.802185\n",
      "[57]\tvalid_0's multi_logloss: 0.800456\n",
      "[58]\tvalid_0's multi_logloss: 0.798796\n",
      "[59]\tvalid_0's multi_logloss: 0.796944\n",
      "[60]\tvalid_0's multi_logloss: 0.795365\n",
      "[61]\tvalid_0's multi_logloss: 0.793781\n",
      "[62]\tvalid_0's multi_logloss: 0.792302\n",
      "[63]\tvalid_0's multi_logloss: 0.790703\n",
      "[64]\tvalid_0's multi_logloss: 0.789308\n",
      "[65]\tvalid_0's multi_logloss: 0.787703\n",
      "[66]\tvalid_0's multi_logloss: 0.786106\n",
      "[67]\tvalid_0's multi_logloss: 0.784677\n",
      "[68]\tvalid_0's multi_logloss: 0.783294\n",
      "[69]\tvalid_0's multi_logloss: 0.781927\n",
      "[70]\tvalid_0's multi_logloss: 0.780708\n",
      "[71]\tvalid_0's multi_logloss: 0.779313\n",
      "[72]\tvalid_0's multi_logloss: 0.778191\n",
      "[73]\tvalid_0's multi_logloss: 0.776839\n",
      "[74]\tvalid_0's multi_logloss: 0.775553\n",
      "[75]\tvalid_0's multi_logloss: 0.774602\n",
      "[76]\tvalid_0's multi_logloss: 0.773408\n",
      "[77]\tvalid_0's multi_logloss: 0.772381\n",
      "[78]\tvalid_0's multi_logloss: 0.771271\n",
      "[79]\tvalid_0's multi_logloss: 0.770214\n",
      "[80]\tvalid_0's multi_logloss: 0.769137\n",
      "[81]\tvalid_0's multi_logloss: 0.768151\n",
      "[82]\tvalid_0's multi_logloss: 0.767261\n",
      "[83]\tvalid_0's multi_logloss: 0.766319\n",
      "[84]\tvalid_0's multi_logloss: 0.765431\n",
      "[85]\tvalid_0's multi_logloss: 0.76437\n",
      "[86]\tvalid_0's multi_logloss: 0.763359\n",
      "[87]\tvalid_0's multi_logloss: 0.762354\n",
      "[88]\tvalid_0's multi_logloss: 0.761536\n",
      "[89]\tvalid_0's multi_logloss: 0.760643\n",
      "[90]\tvalid_0's multi_logloss: 0.759755\n",
      "[91]\tvalid_0's multi_logloss: 0.758926\n",
      "[92]\tvalid_0's multi_logloss: 0.758135\n",
      "[93]\tvalid_0's multi_logloss: 0.757278\n",
      "[94]\tvalid_0's multi_logloss: 0.756473\n",
      "[95]\tvalid_0's multi_logloss: 0.755727\n",
      "[96]\tvalid_0's multi_logloss: 0.754907\n",
      "[97]\tvalid_0's multi_logloss: 0.754203\n",
      "[98]\tvalid_0's multi_logloss: 0.753417\n",
      "[99]\tvalid_0's multi_logloss: 0.75269\n",
      "[100]\tvalid_0's multi_logloss: 0.752036\n",
      "[101]\tvalid_0's multi_logloss: 0.751332\n",
      "[102]\tvalid_0's multi_logloss: 0.750678\n",
      "[103]\tvalid_0's multi_logloss: 0.750088\n",
      "[104]\tvalid_0's multi_logloss: 0.749465\n",
      "[105]\tvalid_0's multi_logloss: 0.748902\n",
      "[106]\tvalid_0's multi_logloss: 0.748198\n",
      "[107]\tvalid_0's multi_logloss: 0.747572\n",
      "[108]\tvalid_0's multi_logloss: 0.746954\n",
      "[109]\tvalid_0's multi_logloss: 0.746368\n",
      "[110]\tvalid_0's multi_logloss: 0.745763\n",
      "[111]\tvalid_0's multi_logloss: 0.745106\n",
      "[112]\tvalid_0's multi_logloss: 0.744554\n",
      "[113]\tvalid_0's multi_logloss: 0.743991\n",
      "[114]\tvalid_0's multi_logloss: 0.743384\n",
      "[115]\tvalid_0's multi_logloss: 0.742875\n",
      "[116]\tvalid_0's multi_logloss: 0.742391\n",
      "[117]\tvalid_0's multi_logloss: 0.74194\n",
      "[118]\tvalid_0's multi_logloss: 0.741472\n",
      "[119]\tvalid_0's multi_logloss: 0.741022\n",
      "[120]\tvalid_0's multi_logloss: 0.740514\n",
      "[121]\tvalid_0's multi_logloss: 0.74006\n",
      "[122]\tvalid_0's multi_logloss: 0.739559\n",
      "[123]\tvalid_0's multi_logloss: 0.739034\n",
      "[124]\tvalid_0's multi_logloss: 0.738709\n",
      "[125]\tvalid_0's multi_logloss: 0.73823\n",
      "[126]\tvalid_0's multi_logloss: 0.737762\n",
      "[127]\tvalid_0's multi_logloss: 0.7373\n",
      "[128]\tvalid_0's multi_logloss: 0.736841\n",
      "[129]\tvalid_0's multi_logloss: 0.736477\n",
      "[130]\tvalid_0's multi_logloss: 0.735949\n",
      "[131]\tvalid_0's multi_logloss: 0.735445\n",
      "[132]\tvalid_0's multi_logloss: 0.735099\n",
      "[133]\tvalid_0's multi_logloss: 0.734889\n",
      "[134]\tvalid_0's multi_logloss: 0.734527\n",
      "[135]\tvalid_0's multi_logloss: 0.734162\n",
      "[136]\tvalid_0's multi_logloss: 0.733824\n",
      "[137]\tvalid_0's multi_logloss: 0.733444\n",
      "[138]\tvalid_0's multi_logloss: 0.733075\n",
      "[139]\tvalid_0's multi_logloss: 0.732677\n",
      "[140]\tvalid_0's multi_logloss: 0.732368\n",
      "[141]\tvalid_0's multi_logloss: 0.73191\n",
      "[142]\tvalid_0's multi_logloss: 0.731633\n",
      "[143]\tvalid_0's multi_logloss: 0.731261\n",
      "[144]\tvalid_0's multi_logloss: 0.730895\n",
      "[145]\tvalid_0's multi_logloss: 0.730574\n",
      "[146]\tvalid_0's multi_logloss: 0.730249\n",
      "[147]\tvalid_0's multi_logloss: 0.729973\n",
      "[148]\tvalid_0's multi_logloss: 0.729664\n",
      "[149]\tvalid_0's multi_logloss: 0.72939\n",
      "[150]\tvalid_0's multi_logloss: 0.729087\n",
      "[151]\tvalid_0's multi_logloss: 0.728909\n",
      "[152]\tvalid_0's multi_logloss: 0.728613\n",
      "[153]\tvalid_0's multi_logloss: 0.728394\n",
      "[154]\tvalid_0's multi_logloss: 0.728128\n",
      "[155]\tvalid_0's multi_logloss: 0.727847\n",
      "[156]\tvalid_0's multi_logloss: 0.727657\n",
      "[157]\tvalid_0's multi_logloss: 0.727421\n",
      "[158]\tvalid_0's multi_logloss: 0.727195\n",
      "[159]\tvalid_0's multi_logloss: 0.726979\n",
      "[160]\tvalid_0's multi_logloss: 0.726775\n",
      "[161]\tvalid_0's multi_logloss: 0.726528\n",
      "[162]\tvalid_0's multi_logloss: 0.726259\n",
      "[163]\tvalid_0's multi_logloss: 0.726071\n",
      "[164]\tvalid_0's multi_logloss: 0.725872\n",
      "[165]\tvalid_0's multi_logloss: 0.725622\n",
      "[166]\tvalid_0's multi_logloss: 0.725312\n",
      "[167]\tvalid_0's multi_logloss: 0.72513\n",
      "[168]\tvalid_0's multi_logloss: 0.724973\n",
      "[169]\tvalid_0's multi_logloss: 0.724821\n",
      "[170]\tvalid_0's multi_logloss: 0.72462\n",
      "[171]\tvalid_0's multi_logloss: 0.724386\n",
      "[172]\tvalid_0's multi_logloss: 0.724072\n",
      "[173]\tvalid_0's multi_logloss: 0.723828\n",
      "[174]\tvalid_0's multi_logloss: 0.723653\n",
      "[175]\tvalid_0's multi_logloss: 0.723432\n",
      "[176]\tvalid_0's multi_logloss: 0.723232\n",
      "[177]\tvalid_0's multi_logloss: 0.723097\n",
      "[178]\tvalid_0's multi_logloss: 0.722945\n",
      "[179]\tvalid_0's multi_logloss: 0.722759\n",
      "[180]\tvalid_0's multi_logloss: 0.722633\n",
      "[181]\tvalid_0's multi_logloss: 0.722539\n",
      "[182]\tvalid_0's multi_logloss: 0.722338\n",
      "[183]\tvalid_0's multi_logloss: 0.722177\n",
      "[184]\tvalid_0's multi_logloss: 0.722065\n",
      "[185]\tvalid_0's multi_logloss: 0.721912\n",
      "[186]\tvalid_0's multi_logloss: 0.721914\n",
      "[187]\tvalid_0's multi_logloss: 0.721767\n",
      "[188]\tvalid_0's multi_logloss: 0.7217\n",
      "[189]\tvalid_0's multi_logloss: 0.721666\n",
      "[190]\tvalid_0's multi_logloss: 0.721568\n",
      "[191]\tvalid_0's multi_logloss: 0.721448\n",
      "[192]\tvalid_0's multi_logloss: 0.721296\n",
      "[193]\tvalid_0's multi_logloss: 0.721291\n",
      "[194]\tvalid_0's multi_logloss: 0.721197\n",
      "[195]\tvalid_0's multi_logloss: 0.721177\n",
      "[196]\tvalid_0's multi_logloss: 0.721047\n",
      "[197]\tvalid_0's multi_logloss: 0.720931\n",
      "[198]\tvalid_0's multi_logloss: 0.720915\n",
      "[199]\tvalid_0's multi_logloss: 0.720795\n",
      "[200]\tvalid_0's multi_logloss: 0.720753\n",
      "[201]\tvalid_0's multi_logloss: 0.720626\n",
      "[202]\tvalid_0's multi_logloss: 0.720483\n",
      "[203]\tvalid_0's multi_logloss: 0.720322\n",
      "[204]\tvalid_0's multi_logloss: 0.72026\n",
      "[205]\tvalid_0's multi_logloss: 0.720273\n",
      "[206]\tvalid_0's multi_logloss: 0.720111\n",
      "[207]\tvalid_0's multi_logloss: 0.720032\n",
      "[208]\tvalid_0's multi_logloss: 0.720038\n",
      "[209]\tvalid_0's multi_logloss: 0.720084\n",
      "[210]\tvalid_0's multi_logloss: 0.720098\n",
      "[211]\tvalid_0's multi_logloss: 0.71995\n",
      "[212]\tvalid_0's multi_logloss: 0.719891\n",
      "[213]\tvalid_0's multi_logloss: 0.719884\n",
      "[214]\tvalid_0's multi_logloss: 0.71989\n",
      "[215]\tvalid_0's multi_logloss: 0.719896\n",
      "[216]\tvalid_0's multi_logloss: 0.71992\n",
      "[217]\tvalid_0's multi_logloss: 0.719945\n",
      "[218]\tvalid_0's multi_logloss: 0.719988\n",
      "[219]\tvalid_0's multi_logloss: 0.720034\n",
      "[220]\tvalid_0's multi_logloss: 0.720089\n",
      "[221]\tvalid_0's multi_logloss: 0.720038\n",
      "[222]\tvalid_0's multi_logloss: 0.720153\n",
      "[223]\tvalid_0's multi_logloss: 0.720203\n",
      "[224]\tvalid_0's multi_logloss: 0.720205\n",
      "[225]\tvalid_0's multi_logloss: 0.720162\n",
      "[226]\tvalid_0's multi_logloss: 0.720112\n",
      "[227]\tvalid_0's multi_logloss: 0.720117\n",
      "[228]\tvalid_0's multi_logloss: 0.720162\n",
      "[229]\tvalid_0's multi_logloss: 0.720106\n",
      "[230]\tvalid_0's multi_logloss: 0.720038\n",
      "[231]\tvalid_0's multi_logloss: 0.719944\n",
      "[232]\tvalid_0's multi_logloss: 0.719958\n",
      "[233]\tvalid_0's multi_logloss: 0.719978\n",
      "[234]\tvalid_0's multi_logloss: 0.719913\n",
      "[235]\tvalid_0's multi_logloss: 0.71989\n",
      "[236]\tvalid_0's multi_logloss: 0.719918\n",
      "[237]\tvalid_0's multi_logloss: 0.720029\n",
      "[238]\tvalid_0's multi_logloss: 0.720106\n",
      "[239]\tvalid_0's multi_logloss: 0.720229\n",
      "[240]\tvalid_0's multi_logloss: 0.720195\n",
      "[241]\tvalid_0's multi_logloss: 0.720227\n",
      "[242]\tvalid_0's multi_logloss: 0.720235\n",
      "[243]\tvalid_0's multi_logloss: 0.720219\n",
      "[244]\tvalid_0's multi_logloss: 0.72022\n",
      "[245]\tvalid_0's multi_logloss: 0.72021\n",
      "[246]\tvalid_0's multi_logloss: 0.720212\n",
      "[247]\tvalid_0's multi_logloss: 0.72031\n",
      "[248]\tvalid_0's multi_logloss: 0.720412\n",
      "[249]\tvalid_0's multi_logloss: 0.72045\n",
      "[250]\tvalid_0's multi_logloss: 0.720469\n",
      "[251]\tvalid_0's multi_logloss: 0.720587\n",
      "[252]\tvalid_0's multi_logloss: 0.720554\n",
      "[253]\tvalid_0's multi_logloss: 0.72067\n",
      "[254]\tvalid_0's multi_logloss: 0.72057\n",
      "[255]\tvalid_0's multi_logloss: 0.720556\n",
      "[256]\tvalid_0's multi_logloss: 0.720611\n",
      "[257]\tvalid_0's multi_logloss: 0.720653\n",
      "[258]\tvalid_0's multi_logloss: 0.720709\n",
      "[259]\tvalid_0's multi_logloss: 0.720805\n",
      "[260]\tvalid_0's multi_logloss: 0.720852\n",
      "[261]\tvalid_0's multi_logloss: 0.720843\n",
      "[262]\tvalid_0's multi_logloss: 0.720987\n",
      "[263]\tvalid_0's multi_logloss: 0.721021\n",
      "[264]\tvalid_0's multi_logloss: 0.721108\n",
      "[265]\tvalid_0's multi_logloss: 0.721221\n",
      "[266]\tvalid_0's multi_logloss: 0.72111\n",
      "[267]\tvalid_0's multi_logloss: 0.721192\n",
      "[268]\tvalid_0's multi_logloss: 0.721193\n",
      "[269]\tvalid_0's multi_logloss: 0.721227\n",
      "[270]\tvalid_0's multi_logloss: 0.721339\n",
      "[271]\tvalid_0's multi_logloss: 0.721424\n",
      "[272]\tvalid_0's multi_logloss: 0.721567\n",
      "[273]\tvalid_0's multi_logloss: 0.721659\n",
      "[274]\tvalid_0's multi_logloss: 0.721701\n",
      "[275]\tvalid_0's multi_logloss: 0.721864\n",
      "[276]\tvalid_0's multi_logloss: 0.721922\n",
      "[277]\tvalid_0's multi_logloss: 0.722032\n",
      "[278]\tvalid_0's multi_logloss: 0.722058\n",
      "[279]\tvalid_0's multi_logloss: 0.722215\n",
      "[280]\tvalid_0's multi_logloss: 0.722297\n",
      "[281]\tvalid_0's multi_logloss: 0.722461\n",
      "[282]\tvalid_0's multi_logloss: 0.722597\n",
      "[283]\tvalid_0's multi_logloss: 0.722611\n",
      "[284]\tvalid_0's multi_logloss: 0.722709\n",
      "[285]\tvalid_0's multi_logloss: 0.722742\n",
      "[286]\tvalid_0's multi_logloss: 0.722859\n",
      "[287]\tvalid_0's multi_logloss: 0.722985\n",
      "[288]\tvalid_0's multi_logloss: 0.722998\n",
      "[289]\tvalid_0's multi_logloss: 0.723069\n",
      "[290]\tvalid_0's multi_logloss: 0.72309\n",
      "[291]\tvalid_0's multi_logloss: 0.723076\n",
      "[292]\tvalid_0's multi_logloss: 0.723094\n",
      "[293]\tvalid_0's multi_logloss: 0.723091\n",
      "[294]\tvalid_0's multi_logloss: 0.723226\n",
      "[295]\tvalid_0's multi_logloss: 0.723306\n",
      "[296]\tvalid_0's multi_logloss: 0.723359\n",
      "[297]\tvalid_0's multi_logloss: 0.723362\n",
      "[298]\tvalid_0's multi_logloss: 0.723334\n",
      "[299]\tvalid_0's multi_logloss: 0.723407\n",
      "[300]\tvalid_0's multi_logloss: 0.723527\n",
      "[301]\tvalid_0's multi_logloss: 0.723665\n",
      "[302]\tvalid_0's multi_logloss: 0.723747\n",
      "[303]\tvalid_0's multi_logloss: 0.723794\n",
      "[304]\tvalid_0's multi_logloss: 0.723866\n",
      "[305]\tvalid_0's multi_logloss: 0.723908\n",
      "[306]\tvalid_0's multi_logloss: 0.723927\n",
      "[307]\tvalid_0's multi_logloss: 0.724071\n",
      "[308]\tvalid_0's multi_logloss: 0.72422\n",
      "[309]\tvalid_0's multi_logloss: 0.724318\n",
      "[310]\tvalid_0's multi_logloss: 0.724432\n",
      "[311]\tvalid_0's multi_logloss: 0.724549\n",
      "[312]\tvalid_0's multi_logloss: 0.724568\n",
      "[313]\tvalid_0's multi_logloss: 0.724696\n",
      "Early stopping, best iteration is:\n",
      "[213]\tvalid_0's multi_logloss: 0.719884\n",
      "CPU times: user 33min 23s, sys: 39.2 s, total: 34min 2s\n",
      "Wall time: 5min 1s\n"
     ]
    }
   ],
   "source": [
    "%%time\n",
    "model = lgb.train(parameters,\n",
    "                       train_data,\n",
    "                       valid_sets=val_data,\n",
    "                       num_boost_round=5000,\n",
    "                       early_stopping_rounds=100)"
   ]
  },
  {
   "cell_type": "code",
   "execution_count": 37,
   "metadata": {},
   "outputs": [
    {
     "data": {
      "text/plain": [
       "<lightgbm.basic.Booster at 0x1a1f86db90>"
      ]
     },
     "execution_count": 37,
     "metadata": {},
     "output_type": "execute_result"
    }
   ],
   "source": [
    "m_name = 'assets/models/lgb_model_kaggle_data.txt'\n",
    "model.save_model(m_name)"
   ]
  },
  {
   "cell_type": "code",
   "execution_count": 38,
   "metadata": {},
   "outputs": [],
   "source": [
    "# %%time\n",
    "# # load model to predict\n",
    "# model = lgb.Booster(model_file=m_name)"
   ]
  },
  {
   "cell_type": "code",
   "execution_count": 39,
   "metadata": {},
   "outputs": [
    {
     "name": "stdout",
     "output_type": "stream",
     "text": [
      "CPU times: user 11.7 s, sys: 481 ms, total: 12.1 s\n",
      "Wall time: 2.92 s\n"
     ]
    }
   ],
   "source": [
    "%%time\n",
    "y_pred = model.predict(test_data.data)"
   ]
  },
  {
   "cell_type": "code",
   "execution_count": 40,
   "metadata": {},
   "outputs": [],
   "source": [
    "max_p_index = np.argmax(y_pred,axis=1)"
   ]
  },
  {
   "cell_type": "code",
   "execution_count": 41,
   "metadata": {},
   "outputs": [
    {
     "data": {
      "text/plain": [
       "0.7464588882527197"
      ]
     },
     "execution_count": 41,
     "metadata": {},
     "output_type": "execute_result"
    }
   ],
   "source": [
    "# Accuracy when most probable class is chosen as the label\n",
    "(max_p_index == test_data.label).mean()"
   ]
  },
  {
   "cell_type": "code",
   "execution_count": 42,
   "metadata": {},
   "outputs": [],
   "source": [
    "# Function to predic thte label\n",
    "def predict_label(df_test,model):\n",
    "    '''Make the prediction using LightGBM prediction\n",
    "    method. Return the class with maximum probability\n",
    "    \n",
    "    TODO : There should be better logic in choosing\n",
    "    the final label'''\n",
    "    # TODO : Implement other logic for the predction\n",
    "    y_pred = model.predict(df_test)\n",
    "    max_p_index = np.argmax(y_pred,axis=1)\n",
    "    label = labelize_numeric(max_p_index)\n",
    "    return label"
   ]
  },
  {
   "cell_type": "code",
   "execution_count": 43,
   "metadata": {},
   "outputs": [],
   "source": [
    "y_pred = predict_label(test_data.data,model)\n",
    "\n",
    "y_orig = labelize_numeric(test_data.label)\n",
    "\n",
    "from sklearn.metrics import confusion_matrix\n",
    "from matplotlib import pyplot as plt\n",
    "def plot_confusion_matrix(cm, classes,\n",
    "                          normalize=False,\n",
    "                          title='Confusion matrix',\n",
    "                          cmap=plt.cm.Blues):\n",
    "    \"\"\"\n",
    "    This function prints and plots the confusion matrix.\n",
    "    Normalization can be applied by setting `normalize=True`.\n",
    "    \"\"\"\n",
    "    import itertools\n",
    "\n",
    "    if normalize:\n",
    "        cm = cm.astype('float') / cm.sum(axis=1)[:, np.newaxis]\n",
    "        print(\"Normalized confusion matrix\")\n",
    "    else:\n",
    "        print('Confusion matrix, without normalization')\n",
    "    \n",
    "    \n",
    "    plt.figure(figsize=(7, 6), dpi= 80, facecolor='w', edgecolor='k')\n",
    "    \n",
    "    plt.imshow(cm, interpolation='nearest', cmap=cmap)\n",
    "    plt.title(title)\n",
    "    plt.colorbar()\n",
    "    tick_marks = np.arange(len(classes))\n",
    "    plt.xticks(tick_marks, classes, rotation=45)\n",
    "    plt.yticks(tick_marks, classes)\n",
    "\n",
    "    fmt = '.2f' if normalize else 'd'\n",
    "    thresh = cm.max() / 2.\n",
    "    for i, j in itertools.product(range(cm.shape[0]), range(cm.shape[1])):\n",
    "        plt.text(j, i, format(cm[i, j], fmt),\n",
    "                 horizontalalignment=\"center\",\n",
    "                 color=\"white\" if cm[i, j] > thresh else \"black\")\n",
    "\n",
    "    plt.ylabel('True label')\n",
    "    plt.xlabel('Predicted label')\n",
    "\n",
    "cnf_matrix = confusion_matrix(y_orig, y_pred)\n",
    "np.set_printoptions(precision=2)"
   ]
  },
  {
   "cell_type": "code",
   "execution_count": 44,
   "metadata": {},
   "outputs": [
    {
     "data": {
      "text/plain": [
       "['society', 'economy', 'technology', 'sports', 'entertainment', 'science']"
      ]
     },
     "execution_count": 44,
     "metadata": {},
     "output_type": "execute_result"
    }
   ],
   "source": [
    "labelize_numeric(range(0,6))"
   ]
  },
  {
   "cell_type": "markdown",
   "metadata": {},
   "source": [
    "### Confusion matrix to show where the model is going wrong"
   ]
  },
  {
   "cell_type": "code",
   "execution_count": 45,
   "metadata": {},
   "outputs": [
    {
     "name": "stdout",
     "output_type": "stream",
     "text": [
      "Normalized confusion matrix\n"
     ]
    },
    {
     "data": {
      "text/plain": [
       "<Figure size 432x288 with 0 Axes>"
      ]
     },
     "metadata": {},
     "output_type": "display_data"
    },
    {
     "data": {
      "image/png": "[encoded data removed]",
      "text/plain": [
       "<Figure size 560x480 with 2 Axes>"
      ]
     },
     "metadata": {},
     "output_type": "display_data"
    }
   ],
   "source": [
    "# Plot non-normalized confusion matrix\n",
    "plt.figure()\n",
    "plot_confusion_matrix(cnf_matrix, classes=labelize_numeric(range(0,7)),normalize=True)"
   ]
  }
 ],
 "metadata": {
  "kernelspec": {
   "display_name": "Python 3",
   "language": "python",
   "name": "python3"
  },
  "language_info": {
   "codemirror_mode": {
    "name": "ipython",
    "version": 3
   },
   "file_extension": ".py",
   "mimetype": "text/x-python",
   "name": "python",
   "nbconvert_exporter": "python",
   "pygments_lexer": "ipython3",
   "version": "3.7.4"
  }
 },
 "nbformat": 4,
 "nbformat_minor": 4
}

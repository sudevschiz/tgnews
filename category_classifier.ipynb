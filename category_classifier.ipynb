{
 "cells": [
  {
   "cell_type": "code",
   "execution_count": 1,
   "metadata": {},
   "outputs": [
    {
     "name": "stderr",
     "output_type": "stream",
     "text": [
      "/Users/sudevchirappat/opt/anaconda3/lib/python3.7/site-packages/lightgbm/__init__.py:48: UserWarning: Starting from version 2.2.1, the library file in distribution wheels for macOS is built by the Apple Clang (Xcode_8.3.3) compiler.\n",
      "This means that in case of installing LightGBM from PyPI via the ``pip install lightgbm`` command, you don't need to install the gcc compiler anymore.\n",
      "Instead of that, you need to install the OpenMP library, which is required for running LightGBM on the system with the Apple Clang compiler.\n",
      "You can install the OpenMP library by the following command: ``brew install libomp``.\n",
      "  \"You can install the OpenMP library by the following command: ``brew install libomp``.\", UserWarning)\n"
     ]
    }
   ],
   "source": [
    "import pandas as pd\n",
    "import numpy as np\n",
    "\n",
    "import lightgbm as lgb\n",
    "import sklearn.datasets\n",
    "import sklearn.metrics\n",
    "from sklearn.model_selection import train_test_split\n",
    "\n",
    "import optuna"
   ]
  },
  {
   "cell_type": "code",
   "execution_count": 2,
   "metadata": {},
   "outputs": [],
   "source": [
    "df_abs = pd.read_csv('Data/labelled_vector_50000cross301.csv',index_col=0)\n",
    "df_nor = pd.read_csv('Data/final_unit_vector.csv')\n",
    "df_awt = pd.read_csv('Data/vector_with_text.csv')"
   ]
  },
  {
   "cell_type": "code",
   "execution_count": 75,
   "metadata": {},
   "outputs": [],
   "source": [
    "def setup_data_for_training(df,drop_cols = ['label']):\n",
    "    # get the labels\n",
    "    y = pd.factorize(df.label.values)[0]\n",
    "    y_label_map =  pd.factorize(df.label.values)[1]\n",
    "    x = df.drop(drop_cols, axis=1)\n",
    "\n",
    "    #\n",
    "    # Create training and validation sets\n",
    "    #\n",
    "\n",
    "    # x, x_test, y, y_test = train_test_split(x, y, test_size=0.2, random_state=42, stratify=y)\n",
    "    X_train, X_test, y_train, y_test = train_test_split(x, y, test_size=0.2, random_state=1)\n",
    "\n",
    "    X_train, X_val, y_train, y_val = train_test_split(X_train, y_train, test_size=0.2, random_state=1)\n",
    "\n",
    "    train_data = lgb.Dataset(X_train, label=y_train)\n",
    "    val_data = lgb.Dataset(X_val, label=y_val)\n",
    "    test_data = lgb.Dataset(X_test, label=y_test)\n",
    "    \n",
    "    return train_data,val_data,test_data,y_label_map"
   ]
  },
  {
   "cell_type": "code",
   "execution_count": 76,
   "metadata": {},
   "outputs": [],
   "source": [
    "train_data,val_data,test_data,y_label_map = setup_data_for_training(df_awt,['label','text'])"
   ]
  },
  {
   "cell_type": "code",
   "execution_count": 77,
   "metadata": {},
   "outputs": [
    {
     "data": {
      "text/plain": [
       "(10000, 300)"
      ]
     },
     "execution_count": 77,
     "metadata": {},
     "output_type": "execute_result"
    }
   ],
   "source": [
    "test_data.data.shape"
   ]
  },
  {
   "cell_type": "code",
   "execution_count": 78,
   "metadata": {},
   "outputs": [],
   "source": [
    "#\n",
    "# Train the model\n",
    "#\n",
    "parameters = {\n",
    "          \"objective\" : \"multiclass\",\n",
    "          \"num_class\" : 5,\n",
    "          \"num_leaves\" : 60,\n",
    "          \"max_depth\": -1,\n",
    "          \"learning_rate\" : 0.1,\n",
    "          \"bagging_fraction\" : 0.9,  # subsample\n",
    "          \"feature_fraction\" : 0.9,  # colsample_bytree\n",
    "          \"bagging_freq\" : 5,        # subsample_freq\n",
    "          \"bagging_seed\" : 2018,\n",
    "          \"verbosity\" : -1 }"
   ]
  },
  {
   "cell_type": "code",
   "execution_count": 106,
   "metadata": {
    "collapsed": true,
    "jupyter": {
     "outputs_hidden": true
    }
   },
   "outputs": [
    {
     "name": "stdout",
     "output_type": "stream",
     "text": [
      "[1]\tvalid_0's multi_logloss: 1.55057\n",
      "Training until validation scores don't improve for 100 rounds\n",
      "[2]\tvalid_0's multi_logloss: 1.49984\n",
      "[3]\tvalid_0's multi_logloss: 1.45621\n",
      "[4]\tvalid_0's multi_logloss: 1.41838\n",
      "[5]\tvalid_0's multi_logloss: 1.38479\n",
      "[6]\tvalid_0's multi_logloss: 1.35563\n",
      "[7]\tvalid_0's multi_logloss: 1.32894\n",
      "[8]\tvalid_0's multi_logloss: 1.30496\n",
      "[9]\tvalid_0's multi_logloss: 1.28385\n",
      "[10]\tvalid_0's multi_logloss: 1.2647\n",
      "[11]\tvalid_0's multi_logloss: 1.24772\n",
      "[12]\tvalid_0's multi_logloss: 1.232\n",
      "[13]\tvalid_0's multi_logloss: 1.21776\n",
      "[14]\tvalid_0's multi_logloss: 1.20438\n",
      "[15]\tvalid_0's multi_logloss: 1.19215\n",
      "[16]\tvalid_0's multi_logloss: 1.1816\n",
      "[17]\tvalid_0's multi_logloss: 1.17083\n",
      "[18]\tvalid_0's multi_logloss: 1.16143\n",
      "[19]\tvalid_0's multi_logloss: 1.15296\n",
      "[20]\tvalid_0's multi_logloss: 1.14459\n",
      "[21]\tvalid_0's multi_logloss: 1.1366\n",
      "[22]\tvalid_0's multi_logloss: 1.12958\n",
      "[23]\tvalid_0's multi_logloss: 1.12302\n",
      "[24]\tvalid_0's multi_logloss: 1.11683\n",
      "[25]\tvalid_0's multi_logloss: 1.11109\n",
      "[26]\tvalid_0's multi_logloss: 1.10559\n",
      "[27]\tvalid_0's multi_logloss: 1.10059\n",
      "[28]\tvalid_0's multi_logloss: 1.0955\n",
      "[29]\tvalid_0's multi_logloss: 1.09136\n",
      "[30]\tvalid_0's multi_logloss: 1.08739\n",
      "[31]\tvalid_0's multi_logloss: 1.08321\n",
      "[32]\tvalid_0's multi_logloss: 1.07941\n",
      "[33]\tvalid_0's multi_logloss: 1.07588\n",
      "[34]\tvalid_0's multi_logloss: 1.07248\n",
      "[35]\tvalid_0's multi_logloss: 1.06954\n",
      "[36]\tvalid_0's multi_logloss: 1.06687\n",
      "[37]\tvalid_0's multi_logloss: 1.06426\n",
      "[38]\tvalid_0's multi_logloss: 1.06168\n",
      "[39]\tvalid_0's multi_logloss: 1.05934\n",
      "[40]\tvalid_0's multi_logloss: 1.05691\n",
      "[41]\tvalid_0's multi_logloss: 1.05435\n",
      "[42]\tvalid_0's multi_logloss: 1.05193\n",
      "[43]\tvalid_0's multi_logloss: 1.05004\n",
      "[44]\tvalid_0's multi_logloss: 1.04814\n",
      "[45]\tvalid_0's multi_logloss: 1.04628\n",
      "[46]\tvalid_0's multi_logloss: 1.0443\n",
      "[47]\tvalid_0's multi_logloss: 1.04238\n",
      "[48]\tvalid_0's multi_logloss: 1.04058\n",
      "[49]\tvalid_0's multi_logloss: 1.03908\n",
      "[50]\tvalid_0's multi_logloss: 1.0376\n",
      "[51]\tvalid_0's multi_logloss: 1.03645\n",
      "[52]\tvalid_0's multi_logloss: 1.03526\n",
      "[53]\tvalid_0's multi_logloss: 1.03397\n",
      "[54]\tvalid_0's multi_logloss: 1.03245\n",
      "[55]\tvalid_0's multi_logloss: 1.03154\n",
      "[56]\tvalid_0's multi_logloss: 1.03035\n",
      "[57]\tvalid_0's multi_logloss: 1.02935\n",
      "[58]\tvalid_0's multi_logloss: 1.02829\n",
      "[59]\tvalid_0's multi_logloss: 1.02722\n",
      "[60]\tvalid_0's multi_logloss: 1.02587\n",
      "[61]\tvalid_0's multi_logloss: 1.0251\n",
      "[62]\tvalid_0's multi_logloss: 1.02434\n",
      "[63]\tvalid_0's multi_logloss: 1.02318\n",
      "[64]\tvalid_0's multi_logloss: 1.02205\n",
      "[65]\tvalid_0's multi_logloss: 1.02133\n",
      "[66]\tvalid_0's multi_logloss: 1.02048\n",
      "[67]\tvalid_0's multi_logloss: 1.01982\n",
      "[68]\tvalid_0's multi_logloss: 1.01919\n",
      "[69]\tvalid_0's multi_logloss: 1.01842\n",
      "[70]\tvalid_0's multi_logloss: 1.0179\n",
      "[71]\tvalid_0's multi_logloss: 1.01739\n",
      "[72]\tvalid_0's multi_logloss: 1.017\n",
      "[73]\tvalid_0's multi_logloss: 1.01655\n",
      "[74]\tvalid_0's multi_logloss: 1.01586\n",
      "[75]\tvalid_0's multi_logloss: 1.01527\n",
      "[76]\tvalid_0's multi_logloss: 1.01487\n",
      "[77]\tvalid_0's multi_logloss: 1.01407\n",
      "[78]\tvalid_0's multi_logloss: 1.01384\n",
      "[79]\tvalid_0's multi_logloss: 1.01351\n",
      "[80]\tvalid_0's multi_logloss: 1.01296\n",
      "[81]\tvalid_0's multi_logloss: 1.01251\n",
      "[82]\tvalid_0's multi_logloss: 1.01202\n",
      "[83]\tvalid_0's multi_logloss: 1.01137\n",
      "[84]\tvalid_0's multi_logloss: 1.0111\n",
      "[85]\tvalid_0's multi_logloss: 1.01035\n",
      "[86]\tvalid_0's multi_logloss: 1.0099\n",
      "[87]\tvalid_0's multi_logloss: 1.00952\n",
      "[88]\tvalid_0's multi_logloss: 1.00895\n",
      "[89]\tvalid_0's multi_logloss: 1.00876\n",
      "[90]\tvalid_0's multi_logloss: 1.00854\n",
      "[91]\tvalid_0's multi_logloss: 1.00816\n",
      "[92]\tvalid_0's multi_logloss: 1.00786\n",
      "[93]\tvalid_0's multi_logloss: 1.00734\n",
      "[94]\tvalid_0's multi_logloss: 1.00723\n",
      "[95]\tvalid_0's multi_logloss: 1.00695\n",
      "[96]\tvalid_0's multi_logloss: 1.00646\n",
      "[97]\tvalid_0's multi_logloss: 1.00609\n",
      "[98]\tvalid_0's multi_logloss: 1.00556\n",
      "[99]\tvalid_0's multi_logloss: 1.00522\n",
      "[100]\tvalid_0's multi_logloss: 1.00489\n",
      "[101]\tvalid_0's multi_logloss: 1.00498\n",
      "[102]\tvalid_0's multi_logloss: 1.00495\n",
      "[103]\tvalid_0's multi_logloss: 1.00492\n",
      "[104]\tvalid_0's multi_logloss: 1.00491\n",
      "[105]\tvalid_0's multi_logloss: 1.0048\n",
      "[106]\tvalid_0's multi_logloss: 1.00444\n",
      "[107]\tvalid_0's multi_logloss: 1.00402\n",
      "[108]\tvalid_0's multi_logloss: 1.00368\n",
      "[109]\tvalid_0's multi_logloss: 1.00325\n",
      "[110]\tvalid_0's multi_logloss: 1.00277\n",
      "[111]\tvalid_0's multi_logloss: 1.00259\n",
      "[112]\tvalid_0's multi_logloss: 1.00232\n",
      "[113]\tvalid_0's multi_logloss: 1.00241\n",
      "[114]\tvalid_0's multi_logloss: 1.00226\n",
      "[115]\tvalid_0's multi_logloss: 1.00197\n",
      "[116]\tvalid_0's multi_logloss: 1.00187\n",
      "[117]\tvalid_0's multi_logloss: 1.00209\n",
      "[118]\tvalid_0's multi_logloss: 1.00195\n",
      "[119]\tvalid_0's multi_logloss: 1.00171\n",
      "[120]\tvalid_0's multi_logloss: 1.00185\n",
      "[121]\tvalid_0's multi_logloss: 1.00159\n",
      "[122]\tvalid_0's multi_logloss: 1.00128\n",
      "[123]\tvalid_0's multi_logloss: 1.00101\n",
      "[124]\tvalid_0's multi_logloss: 1.00067\n",
      "[125]\tvalid_0's multi_logloss: 1.00068\n",
      "[126]\tvalid_0's multi_logloss: 1.0006\n",
      "[127]\tvalid_0's multi_logloss: 1.00022\n",
      "[128]\tvalid_0's multi_logloss: 0.999892\n",
      "[129]\tvalid_0's multi_logloss: 0.999477\n",
      "[130]\tvalid_0's multi_logloss: 0.999387\n",
      "[131]\tvalid_0's multi_logloss: 0.998979\n",
      "[132]\tvalid_0's multi_logloss: 0.99875\n",
      "[133]\tvalid_0's multi_logloss: 0.998824\n",
      "[134]\tvalid_0's multi_logloss: 0.998634\n",
      "[135]\tvalid_0's multi_logloss: 0.998453\n",
      "[136]\tvalid_0's multi_logloss: 0.998269\n",
      "[137]\tvalid_0's multi_logloss: 0.99818\n",
      "[138]\tvalid_0's multi_logloss: 0.997877\n",
      "[139]\tvalid_0's multi_logloss: 0.997471\n",
      "[140]\tvalid_0's multi_logloss: 0.997102\n",
      "[141]\tvalid_0's multi_logloss: 0.997148\n",
      "[142]\tvalid_0's multi_logloss: 0.997006\n",
      "[143]\tvalid_0's multi_logloss: 0.997228\n",
      "[144]\tvalid_0's multi_logloss: 0.996991\n",
      "[145]\tvalid_0's multi_logloss: 0.99687\n",
      "[146]\tvalid_0's multi_logloss: 0.996769\n",
      "[147]\tvalid_0's multi_logloss: 0.996803\n",
      "[148]\tvalid_0's multi_logloss: 0.996834\n",
      "[149]\tvalid_0's multi_logloss: 0.996765\n",
      "[150]\tvalid_0's multi_logloss: 0.996742\n",
      "[151]\tvalid_0's multi_logloss: 0.996611\n",
      "[152]\tvalid_0's multi_logloss: 0.996399\n",
      "[153]\tvalid_0's multi_logloss: 0.996009\n",
      "[154]\tvalid_0's multi_logloss: 0.995875\n",
      "[155]\tvalid_0's multi_logloss: 0.995636\n",
      "[156]\tvalid_0's multi_logloss: 0.995226\n",
      "[157]\tvalid_0's multi_logloss: 0.995265\n",
      "[158]\tvalid_0's multi_logloss: 0.995084\n",
      "[159]\tvalid_0's multi_logloss: 0.994865\n",
      "[160]\tvalid_0's multi_logloss: 0.994825\n",
      "[161]\tvalid_0's multi_logloss: 0.994916\n",
      "[162]\tvalid_0's multi_logloss: 0.995166\n",
      "[163]\tvalid_0's multi_logloss: 0.995172\n",
      "[164]\tvalid_0's multi_logloss: 0.995312\n",
      "[165]\tvalid_0's multi_logloss: 0.99552\n",
      "[166]\tvalid_0's multi_logloss: 0.995402\n",
      "[167]\tvalid_0's multi_logloss: 0.995159\n",
      "[168]\tvalid_0's multi_logloss: 0.995099\n",
      "[169]\tvalid_0's multi_logloss: 0.994893\n",
      "[170]\tvalid_0's multi_logloss: 0.994618\n",
      "[171]\tvalid_0's multi_logloss: 0.994308\n",
      "[172]\tvalid_0's multi_logloss: 0.994252\n",
      "[173]\tvalid_0's multi_logloss: 0.994103\n",
      "[174]\tvalid_0's multi_logloss: 0.994008\n",
      "[175]\tvalid_0's multi_logloss: 0.994133\n",
      "[176]\tvalid_0's multi_logloss: 0.993988\n",
      "[177]\tvalid_0's multi_logloss: 0.993698\n",
      "[178]\tvalid_0's multi_logloss: 0.993389\n",
      "[179]\tvalid_0's multi_logloss: 0.993162\n",
      "[180]\tvalid_0's multi_logloss: 0.99343\n",
      "[181]\tvalid_0's multi_logloss: 0.993353\n",
      "[182]\tvalid_0's multi_logloss: 0.993027\n",
      "[183]\tvalid_0's multi_logloss: 0.992819\n",
      "[184]\tvalid_0's multi_logloss: 0.992679\n",
      "[185]\tvalid_0's multi_logloss: 0.992662\n",
      "[186]\tvalid_0's multi_logloss: 0.992577\n",
      "[187]\tvalid_0's multi_logloss: 0.99244\n",
      "[188]\tvalid_0's multi_logloss: 0.992406\n",
      "[189]\tvalid_0's multi_logloss: 0.992261\n",
      "[190]\tvalid_0's multi_logloss: 0.992418\n",
      "[191]\tvalid_0's multi_logloss: 0.992474\n",
      "[192]\tvalid_0's multi_logloss: 0.992194\n",
      "[193]\tvalid_0's multi_logloss: 0.992274\n",
      "[194]\tvalid_0's multi_logloss: 0.992456\n",
      "[195]\tvalid_0's multi_logloss: 0.99209\n",
      "[196]\tvalid_0's multi_logloss: 0.992215\n",
      "[197]\tvalid_0's multi_logloss: 0.992236\n",
      "[198]\tvalid_0's multi_logloss: 0.992253\n",
      "[199]\tvalid_0's multi_logloss: 0.992227\n",
      "[200]\tvalid_0's multi_logloss: 0.992133\n",
      "[201]\tvalid_0's multi_logloss: 0.992103\n",
      "[202]\tvalid_0's multi_logloss: 0.992112\n",
      "[203]\tvalid_0's multi_logloss: 0.992103\n",
      "[204]\tvalid_0's multi_logloss: 0.992145\n",
      "[205]\tvalid_0's multi_logloss: 0.992138\n",
      "[206]\tvalid_0's multi_logloss: 0.992181\n",
      "[207]\tvalid_0's multi_logloss: 0.992289\n",
      "[208]\tvalid_0's multi_logloss: 0.992453\n",
      "[209]\tvalid_0's multi_logloss: 0.992587\n",
      "[210]\tvalid_0's multi_logloss: 0.992496\n",
      "[211]\tvalid_0's multi_logloss: 0.992431\n",
      "[212]\tvalid_0's multi_logloss: 0.992561\n",
      "[213]\tvalid_0's multi_logloss: 0.992784\n",
      "[214]\tvalid_0's multi_logloss: 0.992866\n",
      "[215]\tvalid_0's multi_logloss: 0.993004\n",
      "[216]\tvalid_0's multi_logloss: 0.993232\n",
      "[217]\tvalid_0's multi_logloss: 0.993238\n",
      "[218]\tvalid_0's multi_logloss: 0.993149\n",
      "[219]\tvalid_0's multi_logloss: 0.993085\n",
      "[220]\tvalid_0's multi_logloss: 0.993017\n",
      "[221]\tvalid_0's multi_logloss: 0.993012\n",
      "[222]\tvalid_0's multi_logloss: 0.992987\n",
      "[223]\tvalid_0's multi_logloss: 0.993033\n",
      "[224]\tvalid_0's multi_logloss: 0.993051\n",
      "[225]\tvalid_0's multi_logloss: 0.993111\n",
      "[226]\tvalid_0's multi_logloss: 0.99325\n",
      "[227]\tvalid_0's multi_logloss: 0.993246\n",
      "[228]\tvalid_0's multi_logloss: 0.993405\n",
      "[229]\tvalid_0's multi_logloss: 0.993477\n",
      "[230]\tvalid_0's multi_logloss: 0.993426\n",
      "[231]\tvalid_0's multi_logloss: 0.993455\n",
      "[232]\tvalid_0's multi_logloss: 0.993398\n",
      "[233]\tvalid_0's multi_logloss: 0.99328\n",
      "[234]\tvalid_0's multi_logloss: 0.99328\n",
      "[235]\tvalid_0's multi_logloss: 0.993273\n",
      "[236]\tvalid_0's multi_logloss: 0.993495\n",
      "[237]\tvalid_0's multi_logloss: 0.993567\n",
      "[238]\tvalid_0's multi_logloss: 0.993626\n",
      "[239]\tvalid_0's multi_logloss: 0.993896\n",
      "[240]\tvalid_0's multi_logloss: 0.993838\n",
      "[241]\tvalid_0's multi_logloss: 0.993845\n",
      "[242]\tvalid_0's multi_logloss: 0.99388\n",
      "[243]\tvalid_0's multi_logloss: 0.993897\n",
      "[244]\tvalid_0's multi_logloss: 0.993799\n",
      "[245]\tvalid_0's multi_logloss: 0.993632\n",
      "[246]\tvalid_0's multi_logloss: 0.993655\n",
      "[247]\tvalid_0's multi_logloss: 0.993684\n",
      "[248]\tvalid_0's multi_logloss: 0.993803\n",
      "[249]\tvalid_0's multi_logloss: 0.993797\n",
      "[250]\tvalid_0's multi_logloss: 0.993986\n",
      "[251]\tvalid_0's multi_logloss: 0.994196\n",
      "[252]\tvalid_0's multi_logloss: 0.993817\n",
      "[253]\tvalid_0's multi_logloss: 0.993881\n",
      "[254]\tvalid_0's multi_logloss: 0.993692\n",
      "[255]\tvalid_0's multi_logloss: 0.993665\n",
      "[256]\tvalid_0's multi_logloss: 0.993878\n",
      "[257]\tvalid_0's multi_logloss: 0.993878\n",
      "[258]\tvalid_0's multi_logloss: 0.99395\n",
      "[259]\tvalid_0's multi_logloss: 0.993975\n",
      "[260]\tvalid_0's multi_logloss: 0.993823\n",
      "[261]\tvalid_0's multi_logloss: 0.993869\n",
      "[262]\tvalid_0's multi_logloss: 0.993963\n",
      "[263]\tvalid_0's multi_logloss: 0.994039\n",
      "[264]\tvalid_0's multi_logloss: 0.994202\n",
      "[265]\tvalid_0's multi_logloss: 0.99409\n",
      "[266]\tvalid_0's multi_logloss: 0.99406\n",
      "[267]\tvalid_0's multi_logloss: 0.993985\n",
      "[268]\tvalid_0's multi_logloss: 0.994072\n",
      "[269]\tvalid_0's multi_logloss: 0.994173\n",
      "[270]\tvalid_0's multi_logloss: 0.994348\n",
      "[271]\tvalid_0's multi_logloss: 0.994397\n",
      "[272]\tvalid_0's multi_logloss: 0.994403\n",
      "[273]\tvalid_0's multi_logloss: 0.994549\n",
      "[274]\tvalid_0's multi_logloss: 0.994675\n",
      "[275]\tvalid_0's multi_logloss: 0.994628\n",
      "[276]\tvalid_0's multi_logloss: 0.994591\n",
      "[277]\tvalid_0's multi_logloss: 0.994557\n",
      "[278]\tvalid_0's multi_logloss: 0.994383\n",
      "[279]\tvalid_0's multi_logloss: 0.994357\n",
      "[280]\tvalid_0's multi_logloss: 0.994365\n",
      "[281]\tvalid_0's multi_logloss: 0.994384\n",
      "[282]\tvalid_0's multi_logloss: 0.994496\n",
      "[283]\tvalid_0's multi_logloss: 0.994456\n",
      "[284]\tvalid_0's multi_logloss: 0.994675\n",
      "[285]\tvalid_0's multi_logloss: 0.994561\n",
      "[286]\tvalid_0's multi_logloss: 0.994631\n",
      "[287]\tvalid_0's multi_logloss: 0.994767\n",
      "[288]\tvalid_0's multi_logloss: 0.99507\n",
      "[289]\tvalid_0's multi_logloss: 0.995123\n",
      "[290]\tvalid_0's multi_logloss: 0.994962\n",
      "[291]\tvalid_0's multi_logloss: 0.994801\n",
      "[292]\tvalid_0's multi_logloss: 0.994835\n",
      "[293]\tvalid_0's multi_logloss: 0.99494\n",
      "[294]\tvalid_0's multi_logloss: 0.994907\n",
      "[295]\tvalid_0's multi_logloss: 0.995057\n",
      "Early stopping, best iteration is:\n",
      "[195]\tvalid_0's multi_logloss: 0.99209\n",
      "CPU times: user 5min 30s, sys: 9.76 s, total: 5min 39s\n",
      "Wall time: 53.3 s\n"
     ]
    }
   ],
   "source": [
    "%%time\n",
    "model = lgb.train(parameters,\n",
    "                       train_data,\n",
    "                       valid_sets=val_data,\n",
    "                       num_boost_round=5000,\n",
    "                       early_stopping_rounds=100)"
   ]
  },
  {
   "cell_type": "code",
   "execution_count": 154,
   "metadata": {},
   "outputs": [],
   "source": [
    "# model.save_model('assets/models/lgb_model_'+.txt')"
   ]
  },
  {
   "cell_type": "code",
   "execution_count": 155,
   "metadata": {},
   "outputs": [],
   "source": [
    "# print('Loading model to predict...')\n",
    "# # load model to predict\n",
    "# model = lgb.Booster(model_file='model.txt')"
   ]
  },
  {
   "cell_type": "code",
   "execution_count": 116,
   "metadata": {},
   "outputs": [
    {
     "name": "stdout",
     "output_type": "stream",
     "text": [
      "CPU times: user 1.56 s, sys: 34.6 ms, total: 1.6 s\n",
      "Wall time: 246 ms\n"
     ]
    }
   ],
   "source": [
    "%%time\n",
    "y_pred = model.predict(test_data.data)"
   ]
  },
  {
   "cell_type": "code",
   "execution_count": 117,
   "metadata": {},
   "outputs": [],
   "source": [
    "max_p_index = np.argmax(y_pred,axis=1)"
   ]
  },
  {
   "cell_type": "code",
   "execution_count": 120,
   "metadata": {},
   "outputs": [
    {
     "data": {
      "text/plain": [
       "0.5952"
      ]
     },
     "execution_count": 120,
     "metadata": {},
     "output_type": "execute_result"
    }
   ],
   "source": [
    "(max_p_index == test_data.label).mean()"
   ]
  },
  {
   "cell_type": "code",
   "execution_count": 121,
   "metadata": {},
   "outputs": [],
   "source": [
    "y_pred_df = pd.DataFrame(y_pred,columns=y_label_map)"
   ]
  },
  {
   "cell_type": "code",
   "execution_count": 122,
   "metadata": {},
   "outputs": [
    {
     "data": {
      "text/html": [
       "<div>\n",
       "<style scoped>\n",
       "    .dataframe tbody tr th:only-of-type {\n",
       "        vertical-align: middle;\n",
       "    }\n",
       "\n",
       "    .dataframe tbody tr th {\n",
       "        vertical-align: top;\n",
       "    }\n",
       "\n",
       "    .dataframe thead th {\n",
       "        text-align: right;\n",
       "    }\n",
       "</style>\n",
       "<table border=\"1\" class=\"dataframe\">\n",
       "  <thead>\n",
       "    <tr style=\"text-align: right;\">\n",
       "      <th></th>\n",
       "      <th>Sports</th>\n",
       "      <th>Politics</th>\n",
       "      <th>Entertainment</th>\n",
       "      <th>Finance</th>\n",
       "      <th>Tech</th>\n",
       "    </tr>\n",
       "  </thead>\n",
       "  <tbody>\n",
       "    <tr>\n",
       "      <td>0</td>\n",
       "      <td>0.073955</td>\n",
       "      <td>0.040285</td>\n",
       "      <td>0.700646</td>\n",
       "      <td>0.108104</td>\n",
       "      <td>0.077010</td>\n",
       "    </tr>\n",
       "    <tr>\n",
       "      <td>1</td>\n",
       "      <td>0.024659</td>\n",
       "      <td>0.047996</td>\n",
       "      <td>0.078077</td>\n",
       "      <td>0.772325</td>\n",
       "      <td>0.076942</td>\n",
       "    </tr>\n",
       "    <tr>\n",
       "      <td>2</td>\n",
       "      <td>0.100338</td>\n",
       "      <td>0.034416</td>\n",
       "      <td>0.155874</td>\n",
       "      <td>0.495111</td>\n",
       "      <td>0.214262</td>\n",
       "    </tr>\n",
       "    <tr>\n",
       "      <td>3</td>\n",
       "      <td>0.349881</td>\n",
       "      <td>0.586545</td>\n",
       "      <td>0.011524</td>\n",
       "      <td>0.033140</td>\n",
       "      <td>0.018909</td>\n",
       "    </tr>\n",
       "    <tr>\n",
       "      <td>4</td>\n",
       "      <td>0.080255</td>\n",
       "      <td>0.109564</td>\n",
       "      <td>0.056289</td>\n",
       "      <td>0.224003</td>\n",
       "      <td>0.529889</td>\n",
       "    </tr>\n",
       "  </tbody>\n",
       "</table>\n",
       "</div>"
      ],
      "text/plain": [
       "     Sports  Politics  Entertainment   Finance      Tech\n",
       "0  0.073955  0.040285       0.700646  0.108104  0.077010\n",
       "1  0.024659  0.047996       0.078077  0.772325  0.076942\n",
       "2  0.100338  0.034416       0.155874  0.495111  0.214262\n",
       "3  0.349881  0.586545       0.011524  0.033140  0.018909\n",
       "4  0.080255  0.109564       0.056289  0.224003  0.529889"
      ]
     },
     "execution_count": 122,
     "metadata": {},
     "output_type": "execute_result"
    }
   ],
   "source": [
    "y_pred_df.head()"
   ]
  },
  {
   "cell_type": "code",
   "execution_count": 123,
   "metadata": {},
   "outputs": [],
   "source": [
    "t = test_data.data.copy()"
   ]
  },
  {
   "cell_type": "code",
   "execution_count": 124,
   "metadata": {},
   "outputs": [],
   "source": [
    "t['text'] = df_awt[df_awt.index.isin(t.index)]['text']"
   ]
  },
  {
   "cell_type": "code",
   "execution_count": 125,
   "metadata": {},
   "outputs": [],
   "source": [
    "t.reset_index(drop=True, inplace=True)\n",
    "y_pred_df.reset_index(drop=True, inplace=True)"
   ]
  },
  {
   "cell_type": "code",
   "execution_count": 128,
   "metadata": {},
   "outputs": [],
   "source": [
    "pred_df = pd.concat([t,y_pred_df],axis=1)"
   ]
  },
  {
   "cell_type": "code",
   "execution_count": 129,
   "metadata": {},
   "outputs": [],
   "source": [
    "pred_df['max_p_label'] = y_label_map[max_p_index]"
   ]
  },
  {
   "cell_type": "code",
   "execution_count": 130,
   "metadata": {},
   "outputs": [],
   "source": [
    "pred_df['original_label'] = y_label_map[test_data.label]"
   ]
  },
  {
   "cell_type": "code",
   "execution_count": 131,
   "metadata": {},
   "outputs": [],
   "source": [
    "from sklearn.metrics import confusion_matrix"
   ]
  },
  {
   "cell_type": "code",
   "execution_count": 132,
   "metadata": {},
   "outputs": [],
   "source": [
    "def plot_confusion_matrix(cm, classes,\n",
    "                          normalize=False,\n",
    "                          title='Confusion matrix',\n",
    "                          cmap=plt.cm.Blues):\n",
    "    \"\"\"\n",
    "    This function prints and plots the confusion matrix.\n",
    "    Normalization can be applied by setting `normalize=True`.\n",
    "    \"\"\"\n",
    "    import itertools\n",
    "    if normalize:\n",
    "        cm = cm.astype('float') / cm.sum(axis=1)[:, np.newaxis]\n",
    "        print(\"Normalized confusion matrix\")\n",
    "    else:\n",
    "        print('Confusion matrix, without normalization')\n",
    "\n",
    "    print(cm)\n",
    "\n",
    "    plt.imshow(cm, interpolation='nearest', cmap=cmap)\n",
    "    plt.title(title)\n",
    "    plt.colorbar()\n",
    "    tick_marks = np.arange(len(classes))\n",
    "    plt.xticks(tick_marks, classes, rotation=45)\n",
    "    plt.yticks(tick_marks, classes)\n",
    "\n",
    "    fmt = '.2f' if normalize else 'd'\n",
    "    thresh = cm.max() / 2.\n",
    "    for i, j in itertools.product(range(cm.shape[0]), range(cm.shape[1])):\n",
    "        plt.text(j, i, format(cm[i, j], fmt),\n",
    "                 horizontalalignment=\"center\",\n",
    "                 color=\"white\" if cm[i, j] > thresh else \"black\")\n",
    "\n",
    "    plt.ylabel('True label')\n",
    "    plt.xlabel('Predicted label')\n",
    "    plt.tight_layout()"
   ]
  },
  {
   "cell_type": "code",
   "execution_count": 133,
   "metadata": {},
   "outputs": [
    {
     "name": "stdout",
     "output_type": "stream",
     "text": [
      "Confusion matrix, without normalization\n",
      "[[ 870  598  379  132  107]\n",
      " [ 121 1389  150  180  161]\n",
      " [ 183   86 1274  214  194]\n",
      " [  58   48  194 1273  410]\n",
      " [  49  101  269  414 1146]]\n"
     ]
    },
    {
     "data": {
      "image/png": "[encoded data removed]",
      "text/plain": [
       "<Figure size 432x288 with 2 Axes>"
      ]
     },
     "metadata": {
      "needs_background": "light"
     },
     "output_type": "display_data"
    }
   ],
   "source": [
    "cnf_matrix = confusion_matrix(pred_df['original_label'], pred_df['max_p_label'],labels=y_label_map)\n",
    "np.set_printoptions(precision=2)\n",
    "\n",
    "# Plot non-normalized confusion matrix\n",
    "plt.figure()\n",
    "plot_confusion_matrix(cnf_matrix, classes=y_label_map,title='Confusion matrix, without normalization')"
   ]
  },
  {
   "cell_type": "code",
   "execution_count": 165,
   "metadata": {},
   "outputs": [],
   "source": [
    "from bs4 import BeautifulSoup\n",
    "import os\n",
    "from multiprocessing import Pool\n",
    "import glob\n",
    "TG_DATA = \"./Data/TG_Data\""
   ]
  },
  {
   "cell_type": "code",
   "execution_count": 166,
   "metadata": {},
   "outputs": [],
   "source": [
    "def read_filelist(folder_path = \".\"):\n",
    "    r_path = os.path.join(folder_path, \"**/*.html\")\n",
    "    file_list = [f for f in glob.glob(r_path, recursive=True)]\n",
    "    return file_list"
   ]
  },
  {
   "cell_type": "code",
   "execution_count": 167,
   "metadata": {},
   "outputs": [
    {
     "name": "stdout",
     "output_type": "stream",
     "text": [
      "CPU times: user 2.14 s, sys: 2.48 s, total: 4.62 s\n",
      "Wall time: 10.7 s\n"
     ]
    }
   ],
   "source": [
    "%%time\n",
    "file_list = read_filelist(TG_DATA)"
   ]
  },
  {
   "cell_type": "code",
   "execution_count": 168,
   "metadata": {},
   "outputs": [],
   "source": [
    "def get_soup(file):\n",
    "    with open(file,'r') as file_ptr:\n",
    "        soup = BeautifulSoup(file_ptr,'lxml')\n",
    "    return soup"
   ]
  },
  {
   "cell_type": "code",
   "execution_count": 169,
   "metadata": {},
   "outputs": [],
   "source": [
    "def extract_text(soup,tag = 'all'):\n",
    "    assert tag in ['all','p','h1']\n",
    "    if tag == 'all':\n",
    "        text = soup.text.strip()\n",
    "    else:\n",
    "        p_contents = soup.find_all(tag)\n",
    "        text = \"\"\n",
    "        for p in p_contents:\n",
    "            text = text + p.getText()\n",
    "    return text"
   ]
  },
  {
   "cell_type": "code",
   "execution_count": 171,
   "metadata": {},
   "outputs": [],
   "source": [
    "def parse_html_file(file):\n",
    "    soup = get_soup(file)\n",
    "    d = extract_meta(soup)\n",
    "    d['p_text'] = extract_text(soup,'p')\n",
    "    return d"
   ]
  },
  {
   "cell_type": "code",
   "execution_count": 170,
   "metadata": {},
   "outputs": [
    {
     "name": "stdout",
     "output_type": "stream",
     "text": [
      "CPU times: user 1min 8s, sys: 31.9 s, total: 1min 40s\n",
      "Wall time: 1min 54s\n"
     ]
    }
   ],
   "source": [
    "%%time\n",
    "def load_vectors(fname): \n",
    "    import io\n",
    "    fin = io.open(fname, 'r', encoding='utf-8', newline='\\n', errors='ignore')\n",
    "    n, d = map(int, fin.readline().split())\n",
    "    data = {}\n",
    "    for line in fin:\n",
    "        tokens = line.rstrip().split(' ')\n",
    "        data[tokens[0]] = list(map(float, tokens[1:]))\n",
    "    return n,d,data\n",
    "\n",
    "n,d,ft_dict = load_vectors(\"assets/wiki-news-300d-1M.vec\")"
   ]
  },
  {
   "cell_type": "code",
   "execution_count": 188,
   "metadata": {},
   "outputs": [],
   "source": [
    "def get_ft_vec(token,ft_dict,d=300):\n",
    "    try:\n",
    "        v = np.array(ft_dict[token])\n",
    "    except KeyError:\n",
    "        v = np.array([0]*d)\n",
    "    return v\n",
    "\n",
    "def compute_ft_sum(textlist,ft_dict,d=300):\n",
    "    ret_vec = np.array([0]*d)\n",
    "    for key in textlist:\n",
    "        vec = get_ft_vec(key,ft_dict)\n",
    "        # Vector addition of token embeddings\n",
    "        ret_vec = ret_vec + vec\n",
    "    return list(ret_vec)\n",
    "\n",
    "def compute_doc_ft(fname,ft_dict):\n",
    "    parse_html_file(fname)\n",
    "    # Read html text\n",
    "    import text_preprocessing as tp\n",
    "    arr = tp.preprocess(doc_text)\n",
    "    vector = compute_ft_sum(arr, ft_dict)\n",
    "    return vector"
   ]
  },
  {
   "cell_type": "code",
   "execution_count": null,
   "metadata": {},
   "outputs": [],
   "source": [
    "%%time\n",
    "pool = Pool()\n",
    "results= pool.map(parse_html_file, file_list)\n",
    "pool.close()"
   ]
  },
  {
   "cell_type": "code",
   "execution_count": null,
   "metadata": {},
   "outputs": [],
   "source": [
    "try:\n",
    "    pool = Pool()\n",
    "    pool.map(yourfunction, arguments)\n",
    "finally:\n",
    "    pool.close()\n",
    "    pool.join()"
   ]
  },
  {
   "cell_type": "code",
   "execution_count": null,
   "metadata": {},
   "outputs": [],
   "source": []
  },
  {
   "cell_type": "code",
   "execution_count": null,
   "metadata": {},
   "outputs": [],
   "source": [
    "%%time\n",
    "pool = Pool()\n",
    "results= pool.map(detect_langage, list(df_headline['text']))\n",
    "pool.close()"
   ]
  },
  {
   "cell_type": "code",
   "execution_count": null,
   "metadata": {},
   "outputs": [],
   "source": []
  },
  {
   "cell_type": "code",
   "execution_count": null,
   "metadata": {},
   "outputs": [],
   "source": []
  }
 ],
 "metadata": {
  "kernelspec": {
   "display_name": "Python 3",
   "language": "python",
   "name": "python3"
  },
  "language_info": {
   "codemirror_mode": {
    "name": "ipython",
    "version": 3
   },
   "file_extension": ".py",
   "mimetype": "text/x-python",
   "name": "python",
   "nbconvert_exporter": "python",
   "pygments_lexer": "ipython3",
   "version": "3.7.4"
  }
 },
 "nbformat": 4,
 "nbformat_minor": 4
}

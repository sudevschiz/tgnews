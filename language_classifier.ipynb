{
 "cells": [
  {
   "cell_type": "code",
   "execution_count": 89,
   "metadata": {},
   "outputs": [],
   "source": [
    "import time\n",
    "start_time = time.time()"
   ]
  },
  {
   "cell_type": "code",
   "execution_count": 35,
   "metadata": {},
   "outputs": [],
   "source": [
    "import pandas as pd\n",
    "import numpy as np\n",
    "import random\n",
    "import glob\n",
    "import logging\n",
    "import os\n",
    "import re\n",
    "from multiprocessing import Pool\n",
    "\n",
    "from langdetect import detect_langs\n",
    "import pycld2 as cld2"
   ]
  },
  {
   "cell_type": "code",
   "execution_count": 2,
   "metadata": {},
   "outputs": [],
   "source": [
    "logFormatter = '%(asctime)s - %(levelname)s - %(message)s'\n",
    "logging.basicConfig(format=logFormatter, level=logging.DEBUG)\n",
    "logger = logging.getLogger(__name__)"
   ]
  },
  {
   "cell_type": "markdown",
   "metadata": {},
   "source": [
    "### Setup paths"
   ]
  },
  {
   "cell_type": "code",
   "execution_count": 3,
   "metadata": {},
   "outputs": [],
   "source": [
    "DATA = \"./Data\""
   ]
  },
  {
   "cell_type": "markdown",
   "metadata": {},
   "source": [
    "### Useful functions"
   ]
  },
  {
   "cell_type": "code",
   "execution_count": 4,
   "metadata": {},
   "outputs": [],
   "source": [
    "def find_between_html_tag(file_ptr,tag):\n",
    "        regex_t = re.compile(f\"(?<=<{tag}>)(.*)(?=</{tag}>)\",re.MULTILINE)\n",
    "\n",
    "        regex_t_s = re.compile(f\"<{tag}>\")\n",
    "        regex_t_e = re.compile(f\"</{tag}>\")\n",
    "        \n",
    "        regex_html_strip = re.compile(r'<.*?>')\n",
    "        \n",
    "        for line in file_ptr:\n",
    "            if regex_t_s.search(line):\n",
    "                match_t = regex_t.search(line)\n",
    "                if match_t:\n",
    "                    s = regex_html_strip.sub('',match_t.group())\n",
    "                    return tag,s\n",
    "                else:\n",
    "                    for newline in file_ptr:\n",
    "                        line = line + newline\n",
    "                        if regex_t_e.search(newline):\n",
    "                            match_t = regex_t.search(line.replace('\\n',' '))\n",
    "                            s = regex_html_strip.sub('',match_t.group().strip())\n",
    "                            return tag,s\n",
    "                        \n",
    "        return None,None"
   ]
  },
  {
   "cell_type": "code",
   "execution_count": 11,
   "metadata": {},
   "outputs": [],
   "source": [
    "def find_headline(file_path):\n",
    "    fname = os.path.basename(file_path)\n",
    "    \n",
    "    with open(file_path,'r') as file_ptr:\n",
    "        html_sec,text = find_between_html_tag(file_ptr,'h1')\n",
    "        \n",
    "        # Separate loop for <p> ONLY IF <h> was found\n",
    "        if html_sec is None:\n",
    "            html_sec,text = find_between_html_tag(file_ptr,'p')\n",
    "    return fname,html_sec,text\n",
    "    "
   ]
  },
  {
   "cell_type": "code",
   "execution_count": 6,
   "metadata": {},
   "outputs": [],
   "source": [
    "def read_filelist(folder_path = \".\"):\n",
    "    r_path = os.path.join(folder_path, \"**/*.html\")\n",
    "    file_list = [f for f in glob.glob(r_path, recursive=True)]\n",
    "    return file_list"
   ]
  },
  {
   "cell_type": "markdown",
   "metadata": {},
   "source": [
    "### Process the files\n",
    "\n",
    "#### Read data"
   ]
  },
  {
   "cell_type": "code",
   "execution_count": 8,
   "metadata": {},
   "outputs": [
    {
     "name": "stdout",
     "output_type": "stream",
     "text": [
      "CPU times: user 691 ms, sys: 585 ms, total: 1.28 s\n",
      "Wall time: 1.59 s\n"
     ]
    }
   ],
   "source": [
    "%%time\n",
    "file_list = read_filelist(DATA)"
   ]
  },
  {
   "cell_type": "code",
   "execution_count": 9,
   "metadata": {},
   "outputs": [
    {
     "name": "stderr",
     "output_type": "stream",
     "text": [
      "2019-11-20 04:23:56,972 - INFO - Number of files : 300932\n"
     ]
    }
   ],
   "source": [
    "logger.info(f'Number of files : {len(file_list)}')"
   ]
  },
  {
   "cell_type": "code",
   "execution_count": 12,
   "metadata": {},
   "outputs": [
    {
     "name": "stdout",
     "output_type": "stream",
     "text": [
      "CPU times: user 331 ms, sys: 156 ms, total: 487 ms\n",
      "Wall time: 11.4 s\n"
     ]
    }
   ],
   "source": [
    "%%time\n",
    "pool = Pool()\n",
    "results= pool.map(find_headline, file_list)\n",
    "pool.close()"
   ]
  },
  {
   "cell_type": "code",
   "execution_count": 13,
   "metadata": {},
   "outputs": [
    {
     "name": "stdout",
     "output_type": "stream",
     "text": [
      "CPU times: user 145 ms, sys: 8.72 ms, total: 154 ms\n",
      "Wall time: 153 ms\n"
     ]
    }
   ],
   "source": [
    "%%time\n",
    "df_headline = pd.DataFrame(results, columns=['fname', 'html_sec', 'text'])"
   ]
  },
  {
   "cell_type": "markdown",
   "metadata": {},
   "source": [
    "#### Language tagging using `cld2` package\n",
    "\n",
    "##### `cld2` seem to give better results than `langdetect` package\n",
    "##### https://github.com/CLD2Owners/cld2"
   ]
  },
  {
   "cell_type": "code",
   "execution_count": 14,
   "metadata": {},
   "outputs": [],
   "source": [
    "def compute_lang_prob(t):\n",
    "    top_l = None\n",
    "    top_l_prob = 0.0\n",
    "    \n",
    "    en_prob = 0.0\n",
    "    ru_prob = 0.0\n",
    "    try: \n",
    "        for l in t[2]:\n",
    "            if l[2]>top_l_prob:\n",
    "                top_l_prob = l[2]\n",
    "                top_l = l[1]\n",
    "            if l[1] == 'en':\n",
    "                en_prob = l[2]\n",
    "            elif l[1] == 'ru':\n",
    "                ru_prob = l[2]\n",
    "    except :\n",
    "        pass\n",
    "\n",
    "    return {'top_l' : top_l, 'top_l_prob' :top_l_prob ,'en_prob' : en_prob, 'ru_prob' : ru_prob}"
   ]
  },
  {
   "cell_type": "code",
   "execution_count": 55,
   "metadata": {},
   "outputs": [],
   "source": [
    "def detect_langage(text,method = 'cld2'):\n",
    "    # Pass the 'method' parameter for deferent\n",
    "    # models. \n",
    "    # Valid params = [cld2,langdetect,polyglot]\n",
    "    \n",
    "    ## Encode to utf-8\n",
    "    text = text.encode('utf-8').decode(\"utf-8\", \"ignore\")\n",
    "    \n",
    "    try:\n",
    "        if method == 'cld2':\n",
    "            # Pass to cld2\n",
    "            result = cld2.detect(text, bestEffort=False)\n",
    "        elif method == 'langdetect':\n",
    "            ### TODO : return values properly\n",
    "            result = detect_langs(text)\n",
    "        elif method == 'polyglot':\n",
    "            ### TODO : implement polyglot\n",
    "            result = tuple()\n",
    "        else:\n",
    "            result = tuple()\n",
    "    except:\n",
    "        result = tuple()\n",
    "    \n",
    "    # Now, compute the probabilities\n",
    "    _p = compute_lang_prob(result)\n",
    "    return _p"
   ]
  },
  {
   "cell_type": "code",
   "execution_count": 16,
   "metadata": {},
   "outputs": [],
   "source": [
    "# %%time\n",
    "# pool = Pool()\n",
    "# results= pool.map(detect_langage, list(df_headline['text']))\n",
    "# pool.close()"
   ]
  },
  {
   "cell_type": "code",
   "execution_count": 17,
   "metadata": {},
   "outputs": [
    {
     "name": "stdout",
     "output_type": "stream",
     "text": [
      "CPU times: user 3.35 s, sys: 172 ms, total: 3.52 s\n",
      "Wall time: 3.48 s\n"
     ]
    }
   ],
   "source": [
    "%%time\n",
    "# Compute result and update it to a df\n",
    "df_probs = pd.DataFrame(list(df_headline['text'].apply(lambda x : detect_langage(x))))"
   ]
  },
  {
   "cell_type": "code",
   "execution_count": 18,
   "metadata": {},
   "outputs": [],
   "source": [
    "df_result = pd.concat([df_headline,df_probs],axis=1)"
   ]
  },
  {
   "cell_type": "code",
   "execution_count": 58,
   "metadata": {},
   "outputs": [
    {
     "data": {
      "text/html": [
       "<div>\n",
       "<style scoped>\n",
       "    .dataframe tbody tr th:only-of-type {\n",
       "        vertical-align: middle;\n",
       "    }\n",
       "\n",
       "    .dataframe tbody tr th {\n",
       "        vertical-align: top;\n",
       "    }\n",
       "\n",
       "    .dataframe thead th {\n",
       "        text-align: right;\n",
       "    }\n",
       "</style>\n",
       "<table border=\"1\" class=\"dataframe\">\n",
       "  <thead>\n",
       "    <tr style=\"text-align: right;\">\n",
       "      <th></th>\n",
       "      <th>fname</th>\n",
       "      <th>html_sec</th>\n",
       "      <th>text</th>\n",
       "      <th>top_l</th>\n",
       "      <th>top_l_prob</th>\n",
       "      <th>en_prob</th>\n",
       "      <th>ru_prob</th>\n",
       "    </tr>\n",
       "  </thead>\n",
       "  <tbody>\n",
       "    <tr>\n",
       "      <td>0</td>\n",
       "      <td>302165934779691477.html</td>\n",
       "      <td>h1</td>\n",
       "      <td>Widow of ex-KGB agent plans legal action on UK...</td>\n",
       "      <td>en</td>\n",
       "      <td>98.0</td>\n",
       "      <td>98.0</td>\n",
       "      <td>0.0</td>\n",
       "    </tr>\n",
       "    <tr>\n",
       "      <td>1</td>\n",
       "      <td>8375520247404441920.html</td>\n",
       "      <td>h1</td>\n",
       "      <td>Уряд спростив низку бюрократичних процедур</td>\n",
       "      <td>uk</td>\n",
       "      <td>98.0</td>\n",
       "      <td>0.0</td>\n",
       "      <td>0.0</td>\n",
       "    </tr>\n",
       "    <tr>\n",
       "      <td>2</td>\n",
       "      <td>3780707622460920289.html</td>\n",
       "      <td>h1</td>\n",
       "      <td>На Украине считают, что иностранцев не следует...</td>\n",
       "      <td>ru</td>\n",
       "      <td>99.0</td>\n",
       "      <td>0.0</td>\n",
       "      <td>99.0</td>\n",
       "    </tr>\n",
       "    <tr>\n",
       "      <td>3</td>\n",
       "      <td>8724142282929742420.html</td>\n",
       "      <td>h1</td>\n",
       "      <td>Дмитрий Дибров и Максим Галкин сыграют в «Кто ...</td>\n",
       "      <td>ru</td>\n",
       "      <td>99.0</td>\n",
       "      <td>0.0</td>\n",
       "      <td>99.0</td>\n",
       "    </tr>\n",
       "    <tr>\n",
       "      <td>4</td>\n",
       "      <td>2827746228549799757.html</td>\n",
       "      <td>h1</td>\n",
       "      <td>«Джокер» собрал миллиард долларов в мировом пр...</td>\n",
       "      <td>ru</td>\n",
       "      <td>98.0</td>\n",
       "      <td>0.0</td>\n",
       "      <td>98.0</td>\n",
       "    </tr>\n",
       "  </tbody>\n",
       "</table>\n",
       "</div>"
      ],
      "text/plain": [
       "                      fname html_sec  \\\n",
       "0   302165934779691477.html       h1   \n",
       "1  8375520247404441920.html       h1   \n",
       "2  3780707622460920289.html       h1   \n",
       "3  8724142282929742420.html       h1   \n",
       "4  2827746228549799757.html       h1   \n",
       "\n",
       "                                                text top_l  top_l_prob  \\\n",
       "0  Widow of ex-KGB agent plans legal action on UK...    en        98.0   \n",
       "1         Уряд спростив низку бюрократичних процедур    uk        98.0   \n",
       "2  На Украине считают, что иностранцев не следует...    ru        99.0   \n",
       "3  Дмитрий Дибров и Максим Галкин сыграют в «Кто ...    ru        99.0   \n",
       "4  «Джокер» собрал миллиард долларов в мировом пр...    ru        98.0   \n",
       "\n",
       "   en_prob  ru_prob  \n",
       "0     98.0      0.0  \n",
       "1      0.0      0.0  \n",
       "2      0.0     99.0  \n",
       "3      0.0     99.0  \n",
       "4      0.0     98.0  "
      ]
     },
     "execution_count": 58,
     "metadata": {},
     "output_type": "execute_result"
    }
   ],
   "source": [
    "df_result.head()"
   ]
  },
  {
   "cell_type": "markdown",
   "metadata": {},
   "source": [
    "### Inspect results obtained\n",
    "\n",
    "There seem to be quite a few Fale negatives (Model tagged the article as None\n",
    "1. We can run other taggers on this and take output\n",
    "2. We can fetch the body of these files and then tag using that"
   ]
  },
  {
   "cell_type": "code",
   "execution_count": 44,
   "metadata": {},
   "outputs": [],
   "source": [
    "# np.array(df_result[(df_result['top_l']=='en') & (df_result['top_l_prob'] < 96)]['text'])"
   ]
  },
  {
   "cell_type": "code",
   "execution_count": 56,
   "metadata": {},
   "outputs": [],
   "source": [
    "# list(df_result[(df_result['top_l'].isna())]['text'])"
   ]
  },
  {
   "cell_type": "code",
   "execution_count": 57,
   "metadata": {},
   "outputs": [],
   "source": [
    "# df_result[df_result['fname'] == '1360813307990682336.html'].iloc[0,2]"
   ]
  },
  {
   "cell_type": "markdown",
   "metadata": {},
   "source": [
    "### Prepare the output\n",
    "\n",
    "Sample : \n",
    "\n",
    "    [\n",
    "      {\n",
    "        \"lang_code\": \"en\",\n",
    "        \"articles\": [\n",
    "          \"981787246124324.html\",\n",
    "          \"239748235923753.html\",\n",
    "          ...\n",
    "        ]\n",
    "      },\n",
    "      {\n",
    "        \"lang_code\": \"ru\",\n",
    "        \"articles\": [\n",
    "          \"273612748127432.html\",\n",
    "          ...\n",
    "        ]\n",
    "      },\n",
    "      ...\n",
    "    ]"
   ]
  },
  {
   "cell_type": "code",
   "execution_count": 69,
   "metadata": {},
   "outputs": [],
   "source": [
    "# For now, extract the cases where model was > 95% sure\n",
    "en_articles = list(df_result[df_result['en_prob']>=95]['fname'])\n",
    "ru_articles = list(df_result[df_result['ru_prob']>=95]['fname'])"
   ]
  },
  {
   "cell_type": "code",
   "execution_count": 62,
   "metadata": {},
   "outputs": [],
   "source": [
    "def prepare_output(lang_code,article_list):\n",
    "    #TODO : Make sure lang_code is a valid \n",
    "    #       ISO 639-1 two-letter language code\n",
    "    d = {\"lang_code\" : lang_code,\"articles\":article_list}\n",
    "    return d"
   ]
  },
  {
   "cell_type": "code",
   "execution_count": 70,
   "metadata": {},
   "outputs": [],
   "source": [
    "output = [prepare_output(\"en\",en_articles),prepare_output(\"ru\",ru_articles)]"
   ]
  },
  {
   "cell_type": "code",
   "execution_count": 95,
   "metadata": {},
   "outputs": [
    {
     "name": "stdout",
     "output_type": "stream",
     "text": [
      "Total execution time : 25 seconds\n"
     ]
    }
   ],
   "source": [
    "print(\"Total execution time : \" + \"{0:.2}\".format(str(time.time()-start_time)) + \" seconds\")"
   ]
  },
  {
   "cell_type": "code",
   "execution_count": null,
   "metadata": {},
   "outputs": [],
   "source": []
  },
  {
   "cell_type": "code",
   "execution_count": null,
   "metadata": {},
   "outputs": [],
   "source": []
  }
 ],
 "metadata": {
  "kernelspec": {
   "display_name": "Python 3",
   "language": "python",
   "name": "python3"
  },
  "language_info": {
   "codemirror_mode": {
    "name": "ipython",
    "version": 3
   },
   "file_extension": ".py",
   "mimetype": "text/x-python",
   "name": "python",
   "nbconvert_exporter": "python",
   "pygments_lexer": "ipython3",
   "version": "3.7.4"
  }
 },
 "nbformat": 4,
 "nbformat_minor": 4
}
